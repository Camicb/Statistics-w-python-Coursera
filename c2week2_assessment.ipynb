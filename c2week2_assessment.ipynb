{
  "nbformat": 4,
  "nbformat_minor": 0,
  "metadata": {
    "colab": {
      "name": "c2week2_assessment.ipynb",
      "provenance": [],
      "private_outputs": true,
      "authorship_tag": "ABX9TyMDNerLNYL7j6YxuTYabadS",
      "include_colab_link": true
    },
    "kernelspec": {
      "name": "python3",
      "display_name": "Python 3"
    }
  },
  "cells": [
    {
      "cell_type": "markdown",
      "metadata": {
        "id": "view-in-github",
        "colab_type": "text"
      },
      "source": [
        "<a href=\"https://colab.research.google.com/github/Camicb/Statistics-w-python-Coursera/blob/master/c2week2_assessment.ipynb\" target=\"_parent\"><img src=\"https://colab.research.google.com/assets/colab-badge.svg\" alt=\"Open In Colab\"/></a>"
      ]
    },
    {
      "cell_type": "markdown",
      "metadata": {
        "id": "V3_ff-AOFZ3l"
      },
      "source": [
        "## Creating confidence intervals in python\n",
        "In this assessment, you will look at data from a study on toddler sleep habits. \n",
        "\n",
        "The confidence intervals you create and the questions you answer in this Jupyter notebook will be used to answer questions in the following graded assignment."
      ]
    },
    {
      "cell_type": "code",
      "metadata": {
        "id": "2H1ORI6UFMx4"
      },
      "source": [
        "import numpy as np\n",
        "import pandas as pd\n",
        "from scipy.stats import t\n",
        "pd.set_option('display.max_columns', 30) # set so can see all columns of the DataFrame"
      ],
      "execution_count": null,
      "outputs": []
    },
    {
      "cell_type": "markdown",
      "metadata": {
        "id": "XMOKRiVYFnG-"
      },
      "source": [
        "Your goal is to analyse data which is the result of a study that examined\n",
        "differences in a number of sleep variables between napping and non-napping toddlers. Some of these\n",
        "sleep variables included: Bedtime (lights-off time in decimalized time), Night Sleep Onset Time (in\n",
        "decimalized time), Wake Time (sleep end time in decimalized time), Night Sleep Duration (interval\n",
        "between sleep onset and sleep end in minutes), and Total 24-Hour Sleep Duration (in minutes). Note:\n",
        "[Decimalized time](https://en.wikipedia.org/wiki/Decimal_time) is the representation of the time of day using units which are decimally related.   \n",
        "\n",
        "\n",
        "The 20 study participants were healthy, normally developing toddlers with no sleep or behavioral\n",
        "problems. These children were categorized as napping or non-napping based upon parental report of\n",
        "children’s habitual sleep patterns. Researchers then verified napping status with data from actigraphy (a\n",
        "non-invasive method of monitoring human rest/activity cycles by wearing of a sensor on the wrist) and\n",
        "sleep diaries during the 5 days before the study assessments were made.\n",
        "\n",
        "\n",
        "You are specifically interested in the results for the Bedtime, Night Sleep Duration, and Total 24-\n",
        "Hour Sleep Duration. "
      ]
    },
    {
      "cell_type": "markdown",
      "metadata": {
        "id": "DfQVWMHMFqHr"
      },
      "source": [
        "Reference: Akacem LD, Simpkin CT, Carskadon MA, Wright KP Jr, Jenni OG, Achermann P, et al. (2015) The Timing of the Circadian Clock and Sleep Differ between Napping and Non-Napping Toddlers. PLoS ONE 10(4): e0125181. https://doi.org/10.1371/journal.pone.0125181"
      ]
    },
    {
      "cell_type": "code",
      "metadata": {
        "id": "HooGHzAkFwHN"
      },
      "source": [
        "# Import the data\n",
        "# Look at the DataFrame to get a sense of the data\n",
        "df = pd.read_csv(\"https://raw.githubusercontent.com/UMstatspy/UMStatsPy/master/Course_2/nap_no_nap.csv\")\n",
        "df"
      ],
      "execution_count": null,
      "outputs": []
    },
    {
      "cell_type": "markdown",
      "metadata": {
        "id": "UvHHPAuMGILj"
      },
      "source": [
        "**Question 1**: What variable is used in the column 'napping' to indicate a toddler takes a nap?  \n",
        "\n",
        "**Question 2**: What is the sample size $n$? \n",
        "\n",
        "**Question 3**: What is the sample size for toddlers who nap, $n_1$, and toddlers who don't nap, $n_2$?"
      ]
    },
    {
      "cell_type": "code",
      "metadata": {
        "id": "ps_zV3CNGYSS"
      },
      "source": [
        "#Q1: 1=nap, 0=no nap\n",
        "print('Sample size:', df['napping'].count()) #Q2\n",
        "#print(len(df['napping'])) Q2 too\n",
        "#Q3:\n",
        "n1=df.loc[(df['napping']==1),'id'].count()# sample size for toddlers who nap\n",
        "n2=df.loc[(df['napping']==0), 'id'].count()#sample size for toddlers who don't nap\n",
        "print('n1:',n1, ', '  'n2:', n2)\n"
      ],
      "execution_count": null,
      "outputs": []
    },
    {
      "cell_type": "markdown",
      "metadata": {
        "id": "F8yA-MhiKVAr"
      },
      "source": [
        "### Average bedtime confidence interval for napping and non napping toddlers\n",
        "Create two 95% confidence intervals for the average bedtime, one for toddler who nap and one for toddlers who don't.\n",
        "\n",
        "Before any analysis, we will convert 'night bedtime' into decimalized time."
      ]
    },
    {
      "cell_type": "code",
      "metadata": {
        "id": "Mk190vRrKetU"
      },
      "source": [
        "# Convert 'night bedtime' into decimalized time\n",
        "df.loc[:,'night bedtime'] = np.floor(df['night bedtime'])*60 + np.round(df['night bedtime']%1,2 )*100"
      ],
      "execution_count": null,
      "outputs": []
    },
    {
      "cell_type": "markdown",
      "metadata": {
        "id": "_6t_fOPMKoPg"
      },
      "source": [
        "Now, isolate the column 'night bedtime' for those who nap into a new variable, and those who didn't nap into another new variable. "
      ]
    },
    {
      "cell_type": "code",
      "metadata": {
        "id": "4FkRPTT-KpNP"
      },
      "source": [
        "bedtime_nap =df.loc[(df['napping']==1),'night bedtime']\n",
        "print('bedtime_nap')\n",
        "print(bedtime_nap)\n",
        "#print(len(bedtime_nap))"
      ],
      "execution_count": null,
      "outputs": []
    },
    {
      "cell_type": "code",
      "metadata": {
        "id": "WSL7Zo7NLmLR"
      },
      "source": [
        "bedtime_no_nap = df.loc[(df['napping']==0),'night bedtime']\n",
        "print('bedtime_no_nap')\n",
        "print(bedtime_no_nap)\n",
        "#print(bedtime_no_nap.count())"
      ],
      "execution_count": null,
      "outputs": []
    },
    {
      "cell_type": "markdown",
      "metadata": {
        "id": "WQJ_koPBLvSO"
      },
      "source": [
        "Now find the sample mean bedtime for nap and no_nap, and the standard error for $\\bar{X}_{nap}$ and $\\bar{X}_{no\\ nap}$."
      ]
    },
    {
      "cell_type": "code",
      "metadata": {
        "id": "MKJc5DNOLwMd"
      },
      "source": [
        "nap_mean_bedtime = bedtime_nap.mean()\n",
        "print('Sample mean bedtime for nap:',nap_mean_bedtime)\n",
        "\n",
        "no_nap_mean_bedtime =  bedtime_no_nap.mean()\n",
        "print('Sample mean bedtime for no_nap:',no_nap_mean_bedtime)\n",
        "\n",
        "nap_se_mean_bedtime = np.std(bedtime_nap) / np.sqrt(len(bedtime_nap))\n",
        "print('Standard error for mean for nap:', nap_se_mean_bedtime)\n",
        "\n",
        "no_nap_se_mean_bedtime = np.std(bedtime_no_nap) / np.sqrt(len(bedtime_no_nap))\n",
        "print('Standard error for mean for no nap:', no_nap_se_mean_bedtime)\n",
        "\n",
        "#Important:\n",
        "#Population standard deviation: (DDOF = 0)\n",
        "#Sample standard deviation: (DDOF = 1)\n",
        "#Standard error (of the mean): (DDOF=0)\n",
        "#So if we leave DDOF set to the defaults...\n",
        "#np.std() is appropriate for a population standard deviation or a standard error, but not a sample standard deviation.\n",
        "#pandas.dataframe.std() is appropriate for a sample standard deviation but not a population standard deviation or a standard error. The default DDOF=1 subtracts one from that expression in the denominator, which gives us the sample size minus one (n-1) that we want for a sample standard deviation.\n",
        "#But ultimately, because we can set the DDOF argument to whatever we need it to be, either function can be made to work for any of the above situations.\n"
      ],
      "execution_count": null,
      "outputs": []
    },
    {
      "cell_type": "markdown",
      "metadata": {
        "id": "c0UQ_xeNRr07"
      },
      "source": [
        "**Question**: Given our sample sizes of $n_1$ and $n_2$ for napping and non napping toddlers respectively, how many degrees of freedom ($df$) are there for the associated $t$ distributions?"
      ]
    },
    {
      "cell_type": "code",
      "metadata": {
        "id": "gG19H-HSXyVc"
      },
      "source": [
        "df_n1=n1-1\n",
        "df_n2=n2-1\n",
        "print(df_n1, ',', df_n2)"
      ],
      "execution_count": null,
      "outputs": []
    },
    {
      "cell_type": "markdown",
      "metadata": {
        "id": "kerKORM2ShmT"
      },
      "source": [
        "To build a 95% confidence interval, what is the value of t\\*?  You can find this value using the percent point function: \n",
        "```\n",
        "from scipy.stats import t\n",
        "\n",
        "t.ppf(probabiliy, df)\n",
        "```\n",
        "This will return the quantile value such that to the left of this value, the tail probabiliy is equal to the input probabiliy (for the specified degrees of freedom). "
      ]
    },
    {
      "cell_type": "markdown",
      "metadata": {
        "id": "VAg6v_l7TFcC"
      },
      "source": [
        "Example: to find the $t^*$ for a 90% confidence interval, we want $t^*$ such that 90% of the density of the $t$ distribution lies between $-t^*$ and $t^*$.\n",
        "\n",
        "Or in other words if $X \\sim t(df)$:\n",
        "\n",
        "P($-t^*$ < X < $t^*$) = .90\n",
        "\n",
        "Which, because the $t$ distribution is symmetric, is equivalent to finding $t^*$ such that:  \n",
        "\n",
        "P(X < $t^*$) = .95\n",
        "\n",
        "So the $t^*$ for a 90% confidence interval, and lets say df=10, will be:\n",
        "\n",
        "t_star = t.ppf(.95, df=10)\n",
        "\n",
        "*The distribution in hand is symmetric, so it has two tails (left and right). \n",
        "The portion of the data which lies beyond the the 95% are on left tail and right tail, 5% = 2.5% + 2.5%. The function calculates only one tail, so we should consider only 2.5%, meaning 100% - 2,5% = 97,5%. \n",
        "If the distribution was completely skewed to one side, having only one tail, then the 5% would be concentrated on one tail, and we could use 95% in t.ppf() function."
      ]
    },
    {
      "cell_type": "code",
      "metadata": {
        "id": "BlYZvgheSq6h"
      },
      "source": [
        "# Find the t_stars for the 95% confidence intervals\n",
        "nap_t_star = t.ppf(.975, df=df_n1)\n",
        "no_nap_t_star = t.ppf(.975, df=df_n2)\n",
        "print('nap_t_star:', nap_t_star,', ', 'no_nap_t_star:', no_nap_t_star )"
      ],
      "execution_count": null,
      "outputs": []
    },
    {
      "cell_type": "markdown",
      "metadata": {
        "id": "uSJ1jmIka_xP"
      },
      "source": [
        "\n",
        "Now to create our confidence intervals. For the average bedtime for nap and no nap, find the upper and lower bounds for the respective confidence intervals."
      ]
    },
    {
      "cell_type": "code",
      "metadata": {
        "id": "JMNJzv3VbL-k"
      },
      "source": [
        "#lcb = mean - tstar * se\n",
        "#ucb = mean + tstar * se\n",
        "\n",
        "lcb1 = nap_mean_bedtime - nap_t_star * nap_se_mean_bedtime\n",
        "ucb1 = nap_mean_bedtime + nap_t_star * nap_se_mean_bedtime\n",
        "lcb2 = no_nap_mean_bedtime - no_nap_t_star * no_nap_se_mean_bedtime\n",
        "ucb2 = no_nap_mean_bedtime + no_nap_t_star * no_nap_se_mean_bedtime\n",
        "CI_nap=[lcb1, ucb1]\n",
        "CI_no_nap=[lcb2, ucb2]\n",
        "print('CI nap:', CI_nap)\n",
        "print('CI no_nap:', CI_no_nap)\n"
      ],
      "execution_count": null,
      "outputs": []
    },
    {
      "cell_type": "markdown",
      "metadata": {
        "id": "CIMIQlM2fqTO"
      },
      "source": [
        "**Question**: What are the 95% confidence intervals, rounded to the nearest ten, for the average bedtime (in decimalized time) for toddlers who nap and for toddlers who don't nap? \n",
        "\n",
        "CI = $\\bar{X} \\pm \\ t^* \\cdot s.e.(\\bar{X})$\n"
      ]
    },
    {
      "cell_type": "markdown",
      "metadata": {
        "id": "Lhl5Fc3fftsv"
      },
      "source": [
        "Answer:\n",
        "\n",
        "CI nap: [1215, 1251]\n",
        "\n",
        "CI no_nap: [1153, 1229]"
      ]
    }
  ]
}