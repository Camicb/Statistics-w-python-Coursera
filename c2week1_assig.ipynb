{
  "nbformat": 4,
  "nbformat_minor": 0,
  "metadata": {
    "colab": {
      "name": "c2week1 assig.ipynb",
      "provenance": [],
      "authorship_tag": "ABX9TyPCfW/OBb/0/GTURb6rToUh",
      "include_colab_link": true
    },
    "kernelspec": {
      "name": "python3",
      "display_name": "Python 3"
    }
  },
  "cells": [
    {
      "cell_type": "markdown",
      "metadata": {
        "id": "view-in-github",
        "colab_type": "text"
      },
      "source": [
        "<a href=\"https://colab.research.google.com/github/Camicb/Statistics-w-python-Coursera/blob/master/c2week1_assig.ipynb\" target=\"_parent\"><img src=\"https://colab.research.google.com/assets/colab-badge.svg\" alt=\"Open In Colab\"/></a>"
      ]
    },
    {
      "cell_type": "markdown",
      "metadata": {
        "id": "FbnFuJ61Y4e1",
        "colab_type": "text"
      },
      "source": [
        "You will use the values of what you find in this assignment to answer questions in the quiz that follows. You may want to open this notebook to be displayed side-by-side on screen with this next quiz."
      ]
    },
    {
      "cell_type": "markdown",
      "metadata": {
        "id": "-Sx1YJX1ZDgz",
        "colab_type": "text"
      },
      "source": [
        "1. Write a function that inputs an integers and returns the negative"
      ]
    },
    {
      "cell_type": "code",
      "metadata": {
        "id": "85roW-URY9Of",
        "colab_type": "code",
        "colab": {}
      },
      "source": [
        "import numpy as np\n",
        "import pandas as pd\n",
        "import matplotlib.pyplot as plt\n",
        "%matplotlib inline"
      ],
      "execution_count": 1,
      "outputs": []
    },
    {
      "cell_type": "code",
      "metadata": {
        "id": "MiFe5LZyZGjv",
        "colab_type": "code",
        "colab": {}
      },
      "source": [
        "def integers(x):\n",
        "    x=-x\n",
        "    return x"
      ],
      "execution_count": 3,
      "outputs": []
    },
    {
      "cell_type": "code",
      "metadata": {
        "id": "XWD-OlUxZMSP",
        "colab_type": "code",
        "colab": {
          "base_uri": "https://localhost:8080/",
          "height": 34
        },
        "outputId": "bac6d464-0058-4360-aaac-bdf7261d87cd"
      },
      "source": [
        "#Test with x=4\n",
        "integers(4)"
      ],
      "execution_count": 4,
      "outputs": [
        {
          "output_type": "execute_result",
          "data": {
            "text/plain": [
              "-4"
            ]
          },
          "metadata": {
            "tags": []
          },
          "execution_count": 4
        }
      ]
    },
    {
      "cell_type": "markdown",
      "metadata": {
        "id": "Ix1f14FzZWaL",
        "colab_type": "text"
      },
      "source": [
        "2. Write a function that inputs a list of integers and returns the minimum value"
      ]
    },
    {
      "cell_type": "code",
      "metadata": {
        "id": "xXNeqsWSZQ1_",
        "colab_type": "code",
        "colab": {}
      },
      "source": [
        "def get_min(x):\n",
        "    current_min = x[0]\n",
        "    for i in x[1:]:\n",
        "        if i < current_min:\n",
        "            current_min = i\n",
        "    return current_min"
      ],
      "execution_count": 5,
      "outputs": []
    },
    {
      "cell_type": "code",
      "metadata": {
        "id": "Y5Zb__p5Zc14",
        "colab_type": "code",
        "colab": {
          "base_uri": "https://localhost:8080/",
          "height": 51
        },
        "outputId": "6efa4f84-f494-4124-edde-5a321aa13f44"
      },
      "source": [
        "# Test your function with input lst\n",
        "lst = [-3, 0, 2, 100, -1, 2]\n",
        "a=get_min(lst)\n",
        "\n",
        "# Create you own input list to test with\n",
        "lista= [-100, 3, 5, 7897, -45]\n",
        "b=get_min(lista)\n",
        "print(a)\n",
        "print(b)"
      ],
      "execution_count": 6,
      "outputs": [
        {
          "output_type": "stream",
          "text": [
            "-3\n",
            "-100\n"
          ],
          "name": "stdout"
        }
      ]
    },
    {
      "cell_type": "markdown",
      "metadata": {
        "id": "rzZGFhEBZk16",
        "colab_type": "text"
      },
      "source": [
        "#### Challenge problem:  \n",
        "Write a function that take in four arguments: lst1, lst2, str1, str2, and returns a pandas DataFrame that has the first column labeled str1 and the second column labaled str2, that have values lst1 and lst2 scaled to be between 0 and 1.\n",
        "\n",
        "For example\n",
        "```\n",
        "lst1 = [1, 2, 3]\n",
        "lst2 = [2, 4, 5]\n",
        "str1 = 'one'\n",
        "str2 = 'two'\n",
        "\n",
        "my_function(lst1, lst2, str1, str2)\n",
        "``` \n",
        "should return a DataFrame that looks like:\n",
        "\n",
        "\n",
        "\n",
        "|  <i></i> | one | two |\n",
        "| --- | --- | --- |\n",
        "| 0 | 0 | 0 |\n",
        "| 1 | .5 | .666 |\n",
        "| 2 | 1 | 1 |\n",
        "\n"
      ]
    },
    {
      "cell_type": "code",
      "metadata": {
        "id": "zgROFMepZlrQ",
        "colab_type": "code",
        "colab": {
          "base_uri": "https://localhost:8080/",
          "height": 142
        },
        "outputId": "813ac64e-cd14-4a05-e5fe-19d45d595f9f"
      },
      "source": [
        "import numpy as np\n",
        "import pandas as pd\n",
        "\n",
        "\"\"\"\n",
        "Normalization is a scaling technique in which values are shifted and rescaled so that they end up \n",
        "ranging between 0 and 1. It is also known as Min-Max scaling.\n",
        "\n",
        "Formula:X'=(X-Xmin)/(Xmax-Xmin)\n",
        "\n",
        "*With scikit-learn is easier\n",
        "\n",
        "\"\"\"\n",
        "def scale(lst):\n",
        "    for i in lst:\n",
        "        lst = [i - np.min(lst) for i in lst]\n",
        "        newlst = [i / np.max(lst) for i in lst]\n",
        "    return newlst\n",
        "\n",
        "lst1 = [1, 2, 3]\n",
        "lst2 = [2, 4, 5]\n",
        "\n",
        "str1 = 'one'\n",
        "str2 = 'two'\n",
        "\n",
        "df = pd.DataFrame({str1:scale(lst1), str2:scale(lst2)})\n",
        "df"
      ],
      "execution_count": 7,
      "outputs": [
        {
          "output_type": "execute_result",
          "data": {
            "text/html": [
              "<div>\n",
              "<style scoped>\n",
              "    .dataframe tbody tr th:only-of-type {\n",
              "        vertical-align: middle;\n",
              "    }\n",
              "\n",
              "    .dataframe tbody tr th {\n",
              "        vertical-align: top;\n",
              "    }\n",
              "\n",
              "    .dataframe thead th {\n",
              "        text-align: right;\n",
              "    }\n",
              "</style>\n",
              "<table border=\"1\" class=\"dataframe\">\n",
              "  <thead>\n",
              "    <tr style=\"text-align: right;\">\n",
              "      <th></th>\n",
              "      <th>one</th>\n",
              "      <th>two</th>\n",
              "    </tr>\n",
              "  </thead>\n",
              "  <tbody>\n",
              "    <tr>\n",
              "      <th>0</th>\n",
              "      <td>0.0</td>\n",
              "      <td>0.000000</td>\n",
              "    </tr>\n",
              "    <tr>\n",
              "      <th>1</th>\n",
              "      <td>0.5</td>\n",
              "      <td>0.666667</td>\n",
              "    </tr>\n",
              "    <tr>\n",
              "      <th>2</th>\n",
              "      <td>1.0</td>\n",
              "      <td>1.000000</td>\n",
              "    </tr>\n",
              "  </tbody>\n",
              "</table>\n",
              "</div>"
            ],
            "text/plain": [
              "   one       two\n",
              "0  0.0  0.000000\n",
              "1  0.5  0.666667\n",
              "2  1.0  1.000000"
            ]
          },
          "metadata": {
            "tags": []
          },
          "execution_count": 7
        }
      ]
    },
    {
      "cell_type": "code",
      "metadata": {
        "id": "D9h4pYA0Z2HO",
        "colab_type": "code",
        "colab": {
          "base_uri": "https://localhost:8080/",
          "height": 419
        },
        "outputId": "e8d4f77d-db41-454a-d35a-bbda83153fce"
      },
      "source": [
        "# test your challenge problem function\n",
        "import numpy as np\n",
        "\n",
        "lst1 = np.random.randint(-234, 938, 100)\n",
        "lst2 = np.random.randint(-522, 123, 100)\n",
        "str1 = 'one'\n",
        "str2 = 'alpha'\n",
        "df = pd.DataFrame({str1:scale(lst1), str2:scale(lst2)})\n",
        "df"
      ],
      "execution_count": 8,
      "outputs": [
        {
          "output_type": "execute_result",
          "data": {
            "text/html": [
              "<div>\n",
              "<style scoped>\n",
              "    .dataframe tbody tr th:only-of-type {\n",
              "        vertical-align: middle;\n",
              "    }\n",
              "\n",
              "    .dataframe tbody tr th {\n",
              "        vertical-align: top;\n",
              "    }\n",
              "\n",
              "    .dataframe thead th {\n",
              "        text-align: right;\n",
              "    }\n",
              "</style>\n",
              "<table border=\"1\" class=\"dataframe\">\n",
              "  <thead>\n",
              "    <tr style=\"text-align: right;\">\n",
              "      <th></th>\n",
              "      <th>one</th>\n",
              "      <th>alpha</th>\n",
              "    </tr>\n",
              "  </thead>\n",
              "  <tbody>\n",
              "    <tr>\n",
              "      <th>0</th>\n",
              "      <td>0.162393</td>\n",
              "      <td>0.852895</td>\n",
              "    </tr>\n",
              "    <tr>\n",
              "      <th>1</th>\n",
              "      <td>0.611111</td>\n",
              "      <td>0.314554</td>\n",
              "    </tr>\n",
              "    <tr>\n",
              "      <th>2</th>\n",
              "      <td>0.582906</td>\n",
              "      <td>0.763693</td>\n",
              "    </tr>\n",
              "    <tr>\n",
              "      <th>3</th>\n",
              "      <td>0.956410</td>\n",
              "      <td>0.000000</td>\n",
              "    </tr>\n",
              "    <tr>\n",
              "      <th>4</th>\n",
              "      <td>0.637607</td>\n",
              "      <td>0.657277</td>\n",
              "    </tr>\n",
              "    <tr>\n",
              "      <th>...</th>\n",
              "      <td>...</td>\n",
              "      <td>...</td>\n",
              "    </tr>\n",
              "    <tr>\n",
              "      <th>95</th>\n",
              "      <td>0.666667</td>\n",
              "      <td>0.312989</td>\n",
              "    </tr>\n",
              "    <tr>\n",
              "      <th>96</th>\n",
              "      <td>0.330769</td>\n",
              "      <td>0.697966</td>\n",
              "    </tr>\n",
              "    <tr>\n",
              "      <th>97</th>\n",
              "      <td>0.128205</td>\n",
              "      <td>0.719875</td>\n",
              "    </tr>\n",
              "    <tr>\n",
              "      <th>98</th>\n",
              "      <td>0.660684</td>\n",
              "      <td>0.929577</td>\n",
              "    </tr>\n",
              "    <tr>\n",
              "      <th>99</th>\n",
              "      <td>0.747009</td>\n",
              "      <td>0.602504</td>\n",
              "    </tr>\n",
              "  </tbody>\n",
              "</table>\n",
              "<p>100 rows × 2 columns</p>\n",
              "</div>"
            ],
            "text/plain": [
              "         one     alpha\n",
              "0   0.162393  0.852895\n",
              "1   0.611111  0.314554\n",
              "2   0.582906  0.763693\n",
              "3   0.956410  0.000000\n",
              "4   0.637607  0.657277\n",
              "..       ...       ...\n",
              "95  0.666667  0.312989\n",
              "96  0.330769  0.697966\n",
              "97  0.128205  0.719875\n",
              "98  0.660684  0.929577\n",
              "99  0.747009  0.602504\n",
              "\n",
              "[100 rows x 2 columns]"
            ]
          },
          "metadata": {
            "tags": []
          },
          "execution_count": 8
        }
      ]
    }
  ]
}