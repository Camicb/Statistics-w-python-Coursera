{
  "nbformat": 4,
  "nbformat_minor": 0,
  "metadata": {
    "colab": {
      "name": "nhanes_multivariate_practice",
      "provenance": [],
      "private_outputs": true,
      "authorship_tag": "ABX9TyM69PJE4u74p4Y+z4xEOFi9",
      "include_colab_link": true
    },
    "kernelspec": {
      "name": "python3",
      "display_name": "Python 3"
    }
  },
  "cells": [
    {
      "cell_type": "markdown",
      "metadata": {
        "id": "view-in-github",
        "colab_type": "text"
      },
      "source": [
        "<a href=\"https://colab.research.google.com/github/Camicb/Statistics-w-python-Coursera/blob/master/nhanes_multivariate_practice.ipynb\" target=\"_parent\"><img src=\"https://colab.research.google.com/assets/colab-badge.svg\" alt=\"Open In Colab\"/></a>"
      ]
    },
    {
      "cell_type": "markdown",
      "metadata": {
        "id": "6TimVnhhjhSi",
        "colab_type": "text"
      },
      "source": [
        "# Practice notebook for multivariate analysis using NHANES data\n",
        "\n",
        "This notebook will give you the opportunity to perform some multivariate analyses on your own using the NHANES study data.  These analyses are similar to what was done in the week 3 NHANES case study notebook.\n",
        "\n",
        "You can enter your code into the cells that say \"enter your code here\", and you can type responses to the questions into the cells that say \"Type Markdown and Latex\".\n",
        "\n",
        "Note that most of the code that you will need to write below is very similar to code that appears in the case study notebook.  You will need to edit code from that notebook in small ways to adapt it to the prompts below.\n",
        "\n",
        "To get started, we will use the same module imports and read the data in the same way as we did in the case study:"
      ]
    },
    {
      "cell_type": "code",
      "metadata": {
        "id": "sTKVoY0cjgHj",
        "colab_type": "code",
        "colab": {}
      },
      "source": [
        "%matplotlib inline\n",
        "import matplotlib.pyplot as plt\n",
        "import seaborn as sns\n",
        "import pandas as pd\n",
        "import statsmodels.api as sm\n",
        "import numpy as np\n",
        "\n",
        "da = pd.read_csv(\"nhanes_2015_2016.csv\")\n",
        "da.columns\n"
      ],
      "execution_count": null,
      "outputs": []
    },
    {
      "cell_type": "markdown",
      "metadata": {
        "id": "F1L-Msb8j1jB",
        "colab_type": "text"
      },
      "source": [
        "## Question 1\n",
        "\n",
        "Make a scatterplot showing the relationship between the first and second measurements of diastolic blood pressure ([BPXDI1](https://wwwn.cdc.gov/Nchs/Nhanes/2015-2016/BPX_I.htm#BPXDI1) and [BPXDI2](https://wwwn.cdc.gov/Nchs/Nhanes/2015-2016/BPX_I.htm#BPXDI2)).  Also obtain the 4x4 matrix of correlation coefficients among the first two systolic and the first two diastolic blood pressure measures."
      ]
    },
    {
      "cell_type": "code",
      "metadata": {
        "id": "os121LmUj3Sw",
        "colab_type": "code",
        "colab": {}
      },
      "source": [
        "sns.regplot(x=\"BPXDI1\", y=\"BPXDI2\", data=da, fit_reg=False, scatter_kws={\"alpha\": 0.2})# un scatter con puntos transparentes\n",
        "print(da.loc[:, [\"BPXSY1\", \"BPXSY2\"]].dropna().corr()) #systolic\n",
        "print(da.loc[:, [\"BPXDI1\", \"BPXDI2\"]].dropna().corr()) #diastolic\n",
        "#print(da.loc[:, [\"BPXDI1\", \"BPXDI2\",\"BPXSY1\", \"BPXSY2\"]].dropna().corr()) #diastolic and systolic"
      ],
      "execution_count": null,
      "outputs": []
    },
    {
      "cell_type": "markdown",
      "metadata": {
        "id": "XfYeAzLFoQtC",
        "colab_type": "text"
      },
      "source": [
        "## Question 2\n",
        "\n",
        "Construct a grid of scatterplots between the first systolic and the first diastolic blood pressure measurement.  Stratify the plots by gender (rows) and by race/ethnicity groups (columns)."
      ]
    },
    {
      "cell_type": "code",
      "metadata": {
        "id": "7Tt6pCq-oRuB",
        "colab_type": "code",
        "colab": {}
      },
      "source": [
        "%matplotlib inline\n",
        "import matplotlib.pyplot as plt\n",
        "import seaborn as sns\n",
        "import pandas as pd\n",
        "import statsmodels.api as sm\n",
        "import numpy as np\n",
        "\n",
        "da = pd.read_csv(\"nhanes_2015_2016.csv\")\n",
        "da[\"RIAGENDR\"] = da.RIAGENDR.replace({1: \"Male\", 2: \"Female\"}) \n",
        "#da[\"RIDRETH1\"] = da.RIDRETH1.replace({1: \"Mexican American\", 2: \"Other Hispanic\", 3: \"Non-Hispanic White\", 4: \"Non-Hispanic Black\", 5: \"Other Race - Including Multi-Racial\"})\n",
        "q2 = sns.FacetGrid(da, col=\"RIDRETH1\",  row=\"RIAGENDR\").map(plt.scatter, \"BPXSY1\", \"BPXDI1\", alpha=0.5).add_legend()"
      ],
      "execution_count": null,
      "outputs": []
    },
    {
      "cell_type": "markdown",
      "metadata": {
        "id": "8VZVH0JLsTD-",
        "colab_type": "text"
      },
      "source": [
        "## Question 3\n",
        "\n",
        "Use \"violin plots\" to compare the distributions of ages within groups defined by gender and educational attainment."
      ]
    },
    {
      "cell_type": "code",
      "metadata": {
        "id": "zczGBhcusUip",
        "colab_type": "code",
        "colab": {}
      },
      "source": [
        "plt.figure(figsize=(15, 5))\n",
        "a = sns.violinplot(da.DMDEDUC2, da.RIDAGEYR, da.RIAGENDR)"
      ],
      "execution_count": null,
      "outputs": []
    },
    {
      "cell_type": "markdown",
      "metadata": {
        "id": "bQR1_pYMvolW",
        "colab_type": "text"
      },
      "source": [
        "## Question 4\n",
        "\n",
        "Use violin plots to compare the distributions of BMI within a series of 10-year age bands.  Also stratify these plots by gender."
      ]
    },
    {
      "cell_type": "code",
      "metadata": {
        "id": "Au3wh-dswJbG",
        "colab_type": "code",
        "colab": {}
      },
      "source": [
        "da['agegrp'] = pd.cut(da.RIDAGEYR, [20, 30, 40, 50, 60, 70, 80])\n",
        "plt.figure(figsize=(15, 5))\n",
        "b = sns.violinplot(da.agegrp, da.BMXBMI, da.RIAGENDR)"
      ],
      "execution_count": null,
      "outputs": []
    },
    {
      "cell_type": "markdown",
      "metadata": {
        "id": "5s6XqBWSwsRN",
        "colab_type": "text"
      },
      "source": [
        "## Question 5\n",
        "\n",
        "Construct a frequency table for the joint distribution of ethnicity groups ([RIDRETH1](https://wwwn.cdc.gov/Nchs/Nhanes/2015-2016/DEMO_I.htm#RIDRETH1)) and health-insurance status ([HIQ210](https://wwwn.cdc.gov/Nchs/Nhanes/2015-2016/HIQ_I.htm#HIQ210)).  Normalize the results so that the values within each ethnic group are proportions that sum to 1."
      ]
    },
    {
      "cell_type": "code",
      "metadata": {
        "id": "KPBCn2vO4WGU",
        "colab_type": "code",
        "colab": {}
      },
      "source": [
        "da.groupby([\"RIDRETH1\", \"HIQ210\"]).size().unstack().fillna(0).apply(lambda x: x/x.sum(), axis=1)"
      ],
      "execution_count": null,
      "outputs": []
    },
    {
      "cell_type": "code",
      "metadata": {
        "id": "TBnZqIGMwtYw",
        "colab_type": "code",
        "colab": {}
      },
      "source": [
        "pd.crosstab(da['RIDRETH1'], da['HIQ210'], margins=True, normalize='index')#codeprof\n",
        "# normalize='index' normalizes each row\n",
        "# margins=True gives us overall normalization"
      ],
      "execution_count": null,
      "outputs": []
    }
  ]
}