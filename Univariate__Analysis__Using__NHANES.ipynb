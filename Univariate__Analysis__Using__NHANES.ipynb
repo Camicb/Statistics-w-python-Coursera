{
  "nbformat": 4,
  "nbformat_minor": 0,
  "metadata": {
    "colab": {
      "name": "Univariate _Analysis _Using _NHANES.ipynb",
      "provenance": [],
      "mount_file_id": "1Ge1KZOmJAhLMxzQwj6MTZIE20gl2QQL9",
      "authorship_tag": "ABX9TyMd2Ow8kdv7tHE7/HH4Q66m",
      "include_colab_link": true
    },
    "kernelspec": {
      "name": "python3",
      "display_name": "Python 3"
    }
  },
  "cells": [
    {
      "cell_type": "markdown",
      "metadata": {
        "id": "view-in-github",
        "colab_type": "text"
      },
      "source": [
        "<a href=\"https://colab.research.google.com/github/Camicb/Statistics-w-python-Coursera/blob/master/Univariate__Analysis__Using__NHANES.ipynb\" target=\"_parent\"><img src=\"https://colab.research.google.com/assets/colab-badge.svg\" alt=\"Open In Colab\"/></a>"
      ]
    },
    {
      "cell_type": "markdown",
      "metadata": {
        "id": "DWWeZW0dfPWT",
        "colab_type": "text"
      },
      "source": [
        "# Practice notebook for univariate analysis using NHANES data\n",
        "\n",
        "This notebook will give you the opportunity to perform some univariate analyses on your own using the NHANES.  These analyses are similar to what was done in the week 2 NHANES case study notebook.\n",
        "\n",
        "You can enter your code into the cells that say \"enter your code here\", and you can type responses to the questions into the cells that say \"Type Markdown and Latex\".\n",
        "\n",
        "Note that most of the code that you will need to write below is very similar to code that appears in the case study notebook.  You will need to edit code from that notebook in small ways to adapt it to the prompts below.\n",
        "\n",
        "To get started, we will use the same module imports and read the data in the same way as we did in the case study:"
      ]
    },
    {
      "cell_type": "code",
      "metadata": {
        "id": "_1adn4WpfNEG",
        "colab_type": "code",
        "colab": {}
      },
      "source": [
        "%matplotlib inline\n",
        "import matplotlib.pyplot as plt\n",
        "import seaborn as sns\n",
        "import pandas as pd\n",
        "import statsmodels.api as sm\n",
        "import numpy as np\n",
        "\n",
        "da = pd.read_csv(\"nhanes_2015_2016.csv\")\n"
      ],
      "execution_count": null,
      "outputs": []
    },
    {
      "cell_type": "markdown",
      "metadata": {
        "id": "lhRz5ykGhrZ7",
        "colab_type": "text"
      },
      "source": [
        "## Question 1\n",
        "\n",
        "Relabel the marital status variable [DMDMARTL](https://wwwn.cdc.gov/Nchs/Nhanes/2015-2016/DEMO_I.htm#DMDMARTL) to have brief but informative character labels.  Then construct a frequency table of these values for all people, then for women only, and for men only.  Then construct these three frequency tables using only people whose age is between 30 and 40."
      ]
    },
    {
      "cell_type": "code",
      "metadata": {
        "id": "uM0iqcaQhrDp",
        "colab_type": "code",
        "colab": {}
      },
      "source": [
        "#Renombrar y calcular frecuencias totales\n",
        "da[\"DMDMARTL\"] = da.DMDMARTL.replace({1: \"Married\", 2: \"Widowed\", 3: \"Divorced\", 4: \"Separated \", 5: \"Never married\", 6: \"Living with partner\", 77: \"Refused\"})\n",
        "print('1) Marital Status for all people') \n",
        "print(da.DMDMARTL.value_counts())\n",
        "da[\"RIAGENDR\"] = da.RIAGENDR.replace({1: \"Male\", 2: \"Female\"})\n",
        "\n",
        "print('2)Marital Status for women')\n",
        "w=da.loc[da[\"RIAGENDR\"] == \"Female\", \"DMDMARTL\"] #selecciono  mujeres\n",
        "print(w.value_counts())\n",
        "\n",
        "print('3)Marital Status for men')\n",
        "m=da.loc[da[\"RIAGENDR\"] == \"Male\", \"DMDMARTL\"] #selecciono  hombres\n",
        "print(m.value_counts())\n",
        "\n",
        "age= da[(da[\"RIDAGEYR\"] >= 30) & (da[\"RIDAGEYR\"] <= 40)]\n",
        "print('4) Marital Status for all people by age 30-40') \n",
        "print(age.DMDMARTL.value_counts())\n",
        "\n",
        "print('5)Marital Status for women by age 30-40')\n",
        "W=age.loc[age[\"RIAGENDR\"] == \"Female\", \"DMDMARTL\"] #selecciono  mujeres\n",
        "print(W.value_counts())\n",
        "\n",
        "print('6)Marital Status for men by age 30-40')\n",
        "M=age.loc[age[\"RIAGENDR\"] == \"Male\", \"DMDMARTL\"] #selecciono  hombres\n",
        "print(M.value_counts())\n"
      ],
      "execution_count": null,
      "outputs": []
    },
    {
      "cell_type": "markdown",
      "metadata": {
        "id": "fkCAXUteWZuC",
        "colab_type": "text"
      },
      "source": [
        "__Q1a.__ Briefly comment on some of the differences that you observe between the distribution of marital status between women and men, for people of all ages.\n",
        "__Q1b.__ Briefly comment on the differences that you observe between the distribution of marital status states for women between the overall population, and for women between the ages of 30 and 40.\n",
        "__Q1c.__ Repeat part b for the men."
      ]
    },
    {
      "cell_type": "markdown",
      "metadata": {
        "id": "nx1x_4CUW5Rm",
        "colab_type": "text"
      },
      "source": [
        "## Question 2\n",
        "\n",
        "Restricting to the female population, stratify the subjects into age bands no wider than ten years, and construct the distribution of marital status within each age band.  Within each age band, present the distribution in terms of proportions that must sum to 1."
      ]
    },
    {
      "cell_type": "code",
      "metadata": {
        "id": "WYQMznVhZb4u",
        "colab_type": "code",
        "colab": {}
      },
      "source": [
        "age1= da[(da[\"RIDAGEYR\"] >= 10) & (da[\"RIDAGEYR\"] <= 20)]\n",
        "print('1) Marital Status for women by age 0-10')\n",
        "age1[\"DMDMARTL\"] = age1.DMDMARTL.fillna(\"Missing\")\n",
        "W1=age1.loc[age1[\"RIAGENDR\"] == \"Female\", \"DMDMARTL\"] \n",
        "x1=W1.value_counts()\n",
        "print(x1/x1.sum())\n",
        "\n",
        "age2= da[(da[\"RIDAGEYR\"] >= 21) & (da[\"RIDAGEYR\"] <= 30)]\n",
        "print('2) Marital Status for women by age 21-30')\n",
        "W2=age2.loc[age2[\"RIAGENDR\"] == \"Female\", \"DMDMARTL\"] \n",
        "x2=W2.value_counts()\n",
        "print(x2/x2.sum())\n",
        "\n",
        "age3= da[(da[\"RIDAGEYR\"] >= 31) & (da[\"RIDAGEYR\"] <= 40)]\n",
        "print('3) Marital Status for women by age 31-40')\n",
        "W3=age3.loc[age3[\"RIAGENDR\"] == \"Female\", \"DMDMARTL\"] \n",
        "x3=W3.value_counts()\n",
        "print(x3/x3.sum())\n",
        "\n",
        "age4= da[(da[\"RIDAGEYR\"] >= 41) & (da[\"RIDAGEYR\"] <= 50)]\n",
        "print('4) Marital Status for women by age 41-50')\n",
        "W4=age4.loc[age4[\"RIAGENDR\"] == \"Female\", \"DMDMARTL\"] \n",
        "x4=W4.value_counts()\n",
        "print(x4/x4.sum())\n",
        "\n",
        "age5= da[(da[\"RIDAGEYR\"] >= 51) & (da[\"RIDAGEYR\"] <= 60)]\n",
        "print('5) Marital Status for women by age 51-60')\n",
        "W5=age5.loc[age5[\"RIAGENDR\"] == \"Female\", \"DMDMARTL\"] \n",
        "x5=W5.value_counts()\n",
        "print(x5/x5.sum())\n",
        "\n",
        "age6= da[(da[\"RIDAGEYR\"] >= 61) & (da[\"RIDAGEYR\"] <= 70)]\n",
        "print('6)Marital Status for women by age 61-70')\n",
        "W6=age6.loc[age6[\"RIAGENDR\"] == \"Female\", \"DMDMARTL\"] \n",
        "x6=W6.value_counts()\n",
        "print(x6/x6.sum())\n",
        "\n",
        "age7= da[(da[\"RIDAGEYR\"] >= 71) & (da[\"RIDAGEYR\"] <= 80)]\n",
        "print('7) Marital Status for women by age 71-80')\n",
        "W7=age7.loc[age7[\"RIAGENDR\"] == \"Female\", \"DMDMARTL\"] \n",
        "x7=W7.value_counts()\n",
        "print(x7/x7.sum())\n",
        "\n",
        "#age8= da[(da[\"RIDAGEYR\"] >= 81) & (da[\"RIDAGEYR\"] <= 90)]#vaía igual q la de 0-10 años\n",
        "#print('8) Marital Status for women by age 81-90')\n",
        "#W8=age8.loc[age8[\"RIAGENDR\"] == \"Female\", \"DMDMARTL\"] \n",
        "#x8=W8.value_counts()\n",
        "#print(x8/x8.sum())"
      ],
      "execution_count": null,
      "outputs": []
    },
    {
      "cell_type": "code",
      "metadata": {
        "id": "jDUKt4ALHM8u",
        "colab_type": "code",
        "colab": {
          "base_uri": "https://localhost:8080/",
          "height": 153
        },
        "outputId": "93801375-be8f-43e5-ca96-7d153caa52c7"
      },
      "source": [
        "#Codigo del professor\n",
        "import pandas as pd\n",
        "\n",
        "da = pd.read_csv(\"nhanes_2015_2016.csv\")\n",
        "\n",
        "# recode marital status and gender so that they're treated as categorical\n",
        "da['DMDMARTLx'] = da.DMDMARTL.replace({1: 'Married', 2: 'Widowed', 3: 'Divorced', 4: 'Separated', 5: 'Never Married', 6: 'Living with Partner', 77: 'Refused', 99: 'Don\\'t Know'})\n",
        "da['RIAGENDRx'] = da.RIAGENDR.replace({1: 'Male', 2: 'Female'})\n",
        "\n",
        "# subset the data to include only females\n",
        "da = da.where(da.RIAGENDRx == 'Female')\n",
        "\n",
        "# cut age into bands no wider than 10 years\n",
        "da['agegrp'] = pd.cut(da.RIDAGEYR, [20, 30, 40, 50, 60, 70, 80])\n",
        "\n",
        "# Eliminate rare/missing values\n",
        "dx = da.loc[~da.DMDMARTLx.isin([\"Don't know\", \"Missing\"]), :]  \n",
        "\n",
        "# group marital status by age group band\n",
        "dx = dx.groupby([\"agegrp\"])[\"DMDMARTLx\"]\n",
        "\n",
        "# obtain the counts for marital status within each age group band\n",
        "dx = dx.value_counts()\n",
        "\n",
        "dx = dx.unstack() # Restructure the results from 'long' to 'wide'\n",
        "dx = dx.apply(lambda x: x/x.sum(), axis=1) # Normalize within each stratum to get proportions\n",
        "print(dx.to_string(float_format=\"%.3f\"))  # Limit display to 3 decimal places"
      ],
      "execution_count": 161,
      "outputs": [
        {
          "output_type": "stream",
          "text": [
            "DMDMARTLx  Divorced  Living with Partner  Married  Never Married  Refused  Separated  Widowed\n",
            "agegrp                                                                                       \n",
            "(20, 30]      0.021                0.206    0.305          0.446      NaN      0.021      NaN\n",
            "(30, 40]      0.091                0.120    0.544          0.205      NaN      0.036    0.004\n",
            "(40, 50]      0.137                0.074    0.574          0.125      NaN      0.066    0.024\n",
            "(50, 60]      0.177                0.068    0.547          0.089    0.002      0.057    0.060\n",
            "(60, 70]      0.193                0.043    0.481          0.086      NaN      0.050    0.147\n",
            "(70, 80]      0.144                0.007    0.317          0.051      NaN      0.020    0.461\n"
          ],
          "name": "stdout"
        }
      ]
    },
    {
      "cell_type": "code",
      "metadata": {
        "id": "44VmNqfzICaa",
        "colab_type": "code",
        "colab": {
          "base_uri": "https://localhost:8080/",
          "height": 296
        },
        "outputId": "44f4a0a4-70d3-46b1-dfb2-fbb53880cd58"
      },
      "source": [
        "#code del profe\n",
        "# boxplots for males and females\n",
        "\n",
        "%matplotlib inline\n",
        "import matplotlib.pyplot as plt\n",
        "\n",
        "import seaborn as sns\n",
        "import pandas as pd\n",
        "\n",
        "da = pd.read_csv(\"nhanes_2015_2016.csv\")\n",
        "\n",
        "da[\"RIAGENDRx\"] = da.RIAGENDR.replace({1: \"Male\", 2: \"Female\"})\n",
        "\n",
        "sns.boxplot(x=\"RIAGENDRx\", y=\"BMXHT\", data=da)"
      ],
      "execution_count": 163,
      "outputs": [
        {
          "output_type": "execute_result",
          "data": {
            "text/plain": [
              "<matplotlib.axes._subplots.AxesSubplot at 0x7f20c8e21c50>"
            ]
          },
          "metadata": {
            "tags": []
          },
          "execution_count": 163
        },
        {
          "output_type": "display_data",
          "data": {
            "image/png": "[encoded data removed]",
            "text/plain": [
              "<Figure size 432x288 with 1 Axes>"
            ]
          },
          "metadata": {
            "tags": [],
            "needs_background": "light"
          }
        }
      ]
    },
    {
      "cell_type": "markdown",
      "metadata": {
        "id": "WRuSrIRCjRkr",
        "colab_type": "text"
      },
      "source": [
        "__Q2a.__ Comment on the trends that you see in this series of marginal distributions. __Q2b.__ Repeat the construction for males. __Q2c.__ Comment on any notable differences that you see when comparing these results for females and for males."
      ]
    },
    {
      "cell_type": "markdown",
      "metadata": {
        "id": "HTMfltUfjYc5",
        "colab_type": "text"
      },
      "source": [
        "## Question 3\n",
        "\n",
        "Construct a histogram of the distribution of heights using the BMXHT variable in the NHANES sample."
      ]
    },
    {
      "cell_type": "code",
      "metadata": {
        "id": "rY52Z2w8jcLB",
        "colab_type": "code",
        "colab": {}
      },
      "source": [
        "sns.distplot(da.BMXHT.dropna()).set_title('Histogram of heights')\n",
        "plt.show()"
      ],
      "execution_count": null,
      "outputs": []
    },
    {
      "cell_type": "markdown",
      "metadata": {
        "id": "zAV-NQh6kqDU",
        "colab_type": "text"
      },
      "source": [
        "__Q3a.__ Use the `bins` argument to [distplot](https://seaborn.pydata.org/generated/seaborn.distplot.html)(distplot se va a actualizar con otros nombres pero en este ambiente no me deja cambiarlo) to produce histograms with different numbers of bins.  Assess whether the default value for this argument gives a meaningful result, and comment on what happens as the number of bins grows excessively large or excessively small-->se va al porcino"
      ]
    },
    {
      "cell_type": "code",
      "metadata": {
        "id": "GlDTKzCVlNIV",
        "colab_type": "code",
        "colab": {}
      },
      "source": [
        "hist=da.BMXHT.dropna()\n",
        "sns.distplot(hist, bins=100, kde=False)\n",
        "plt.show()"
      ],
      "execution_count": null,
      "outputs": []
    },
    {
      "cell_type": "code",
      "metadata": {
        "id": "QL7L1jIpoKWL",
        "colab_type": "code",
        "colab": {}
      },
      "source": [
        "hist1=da.BMXHT.dropna()\n",
        "sns.distplot(hist, bins=10, kde=False)\n",
        "plt.show()"
      ],
      "execution_count": null,
      "outputs": []
    },
    {
      "cell_type": "markdown",
      "metadata": {
        "id": "Kp2moRrCoJ5h",
        "colab_type": "text"
      },
      "source": [
        "Q3b.__ Make separate histograms for the heights of women and men, then make a side-by-side boxplot showing the heights of women and men."
      ]
    },
    {
      "cell_type": "code",
      "metadata": {
        "id": "oQe6h8GwqQQH",
        "colab_type": "code",
        "colab": {}
      },
      "source": [
        "histw=da.loc[da[\"RIAGENDR\"] == \"Female\", \"BMXHT\"] #selecciono mujeres\n",
        "sns.distplot(histw).set_title('Histogram for Heights of women')\n",
        "plt.show()"
      ],
      "execution_count": null,
      "outputs": []
    },
    {
      "cell_type": "code",
      "metadata": {
        "id": "waXqf18kucmh",
        "colab_type": "code",
        "colab": {}
      },
      "source": [
        "histm=da.loc[da[\"RIAGENDR\"] == \"Male\", \"BMXHT\"]#selecciono hombres\n",
        "sns.distplot(histm).set_title('Histogram for Heights of men')\n",
        "plt.show()"
      ],
      "execution_count": null,
      "outputs": []
    },
    {
      "cell_type": "code",
      "metadata": {
        "id": "ONnFh1iIxr4E",
        "colab_type": "code",
        "colab": {}
      },
      "source": [
        "sns.boxplot(x=\"BPXSY1\", y=\"RIAGENDR\", hue=\"RIAGENDR\", data=da).set_title('Boxplots for heights of men and women')\n",
        "plt.figure(figsize=(14, 7))"
      ],
      "execution_count": null,
      "outputs": []
    },
    {
      "cell_type": "markdown",
      "metadata": {
        "id": "EE5bq0TozTvI",
        "colab_type": "text"
      },
      "source": [
        "_Q3c.__ Comment on what features, if any are not represented clearly in the boxplots, and what features, if any, are easier to see in the boxplots than in the histograms."
      ]
    },
    {
      "cell_type": "code",
      "metadata": {
        "id": "rE358Mz3HsSc",
        "colab_type": "code",
        "colab": {
          "base_uri": "https://localhost:8080/",
          "height": 296
        },
        "outputId": "0e41ecd9-2ae0-48c0-d19d-9857c5eec5d2"
      },
      "source": [
        "#Codigo del profe\n",
        "# histograms for males and females\n",
        "\n",
        "%matplotlib inline\n",
        "import matplotlib.pyplot as plt\n",
        "\n",
        "import seaborn as sns\n",
        "import pandas as pd\n",
        "\n",
        "da = pd.read_csv(\"nhanes_2015_2016.csv\")\n",
        "\n",
        "da[\"RIAGENDRx\"] = da.RIAGENDR.replace({1: \"Male\", 2: \"Female\"})\n",
        "df = da.loc[da.RIAGENDRx.isin([\"Female\"]), :]\n",
        "dm = da.loc[da.RIAGENDRx.isin([\"Male\"]), :]\n",
        "\n",
        "sns.distplot(df.BMXHT.dropna())\n",
        "sns.distplot(dm.BMXHT.dropna())"
      ],
      "execution_count": 162,
      "outputs": [
        {
          "output_type": "execute_result",
          "data": {
            "text/plain": [
              "<matplotlib.axes._subplots.AxesSubplot at 0x7f20c8ade828>"
            ]
          },
          "metadata": {
            "tags": []
          },
          "execution_count": 162
        },
        {
          "output_type": "display_data",
          "data": {
            "image/png": "[encoded data removed]",
            "text/plain": [
              "<Figure size 432x288 with 1 Axes>"
            ]
          },
          "metadata": {
            "tags": [],
            "needs_background": "light"
          }
        }
      ]
    },
    {
      "cell_type": "code",
      "metadata": {
        "id": "WkxQyY71HrmB",
        "colab_type": "code",
        "colab": {}
      },
      "source": [
        ""
      ],
      "execution_count": null,
      "outputs": []
    },
    {
      "cell_type": "markdown",
      "metadata": {
        "id": "5BNwtQ65zVH8",
        "colab_type": "text"
      },
      "source": [
        "## Question 4\n",
        "\n",
        "Make a boxplot showing the distribution of within-subject differences between the first and second systolic blood pressure measurents ([BPXSY1](https://wwwn.cdc.gov/Nchs/Nhanes/2015-2016/BPX_I.htm#BPXSY1) and [BPXSY2](https://wwwn.cdc.gov/Nchs/Nhanes/2015-2016/BPX_I.htm#BPXSY2))."
      ]
    },
    {
      "cell_type": "code",
      "metadata": {
        "id": "KYl8pUQlzYTN",
        "colab_type": "code",
        "colab": {
          "base_uri": "https://localhost:8080/",
          "height": 265
        },
        "outputId": "2a784af4-cb8c-4f79-903f-408f3feef87a"
      },
      "source": [
        "bp = sns.boxplot(data=da.loc[:, [\"BPXSY1\", \"BPXSY2\"]])\n",
        "_ = bp.set_ylabel(\"Blood pressure in mm/Hg\")"
      ],
      "execution_count": 160,
      "outputs": [
        {
          "output_type": "display_data",
          "data": {
            "image/png": "[encoded data removed]",
            "text/plain": [
              "<Figure size 432x288 with 1 Axes>"
            ]
          },
          "metadata": {
            "tags": [],
            "needs_background": "light"
          }
        }
      ]
    },
    {
      "cell_type": "markdown",
      "metadata": {
        "id": "3qjqC0m10oY1",
        "colab_type": "text"
      },
      "source": [
        "__Q4a.__ What proportion of the subjects have a lower SBP on the second reading compared to the first?--> *Above we saw that the second blood pressure reading on a subject tended on average to be slightly lower than the first measurement. This difference was less than 1 mm/Hg, so is not visible in the “marginal”\n",
        "distributions shown.*"
      ]
    },
    {
      "cell_type": "markdown",
      "metadata": {
        "id": "84LKAYIMQbVq",
        "colab_type": "text"
      },
      "source": [
        "## Question 5\n",
        "\n",
        "Construct a frequency table of household sizes for people within each educational attainment category (the relevant variable is [DMDEDUC2](https://wwwn.cdc.gov/Nchs/Nhanes/2015-2016/DEMO_I.htm#DMDEDUC2)).  Convert the frequencies to proportions."
      ]
    },
    {
      "cell_type": "markdown",
      "metadata": {
        "id": "2zRx_hYBQfDF",
        "colab_type": "text"
      },
      "source": [
        "__Q5a.__ Comment on any major differences among the distributions."
      ]
    },
    {
      "cell_type": "code",
      "metadata": {
        "id": "nOo6ptcVSLaY",
        "colab_type": "code",
        "colab": {}
      },
      "source": [
        "# Univariate Practice Q5a\n",
        "\n",
        "# imports\n",
        "import pandas as pd\n",
        "\n",
        "# read the data\n",
        "da = pd.read_csv(\"nhanes_2015_2016.csv\")\n",
        "\n",
        "# recode the educational variable\n",
        "da[\"DMDEDUC2x\"] = da.DMDEDUC2.replace({1: \"A:<9\", 2: \"B:9-11\", 3: \"C:HS/GED\", 4: \"D:Some college/AA\", 5: \"E:College\", \n",
        "                                       7: \"F:Refused\", 9: \"G:Don't know\"})\n",
        "\n",
        "# obtain counts for each level of household size by the grouping variable\n",
        "dx = da.groupby([\"DMDEDUC2x\"])[\"DMDHHSIZ\"].value_counts()\n",
        "\n",
        "# what datatype was returned?\n",
        "#print(type(dx))\n",
        "\n",
        "# what do the results look like?\n",
        "#print(dx)\n",
        "\n",
        "# restructure the results from 'long' to 'wide'\n",
        "dx = dx.unstack() \n",
        "\n",
        "# what datatype was returned?\n",
        "#print(type(dx))\n",
        "\n",
        "# how did .unstack() change the results?\n",
        "#print(dx)\n",
        "\n",
        "# normalize within each stratum to get proportions that sum to 1\n",
        "dx = dx.apply(lambda x: x/x.sum(), axis=1)\n",
        "\n",
        "# print the results and format to three decimal points\n",
        "print(dx.to_string(float_format=\"%.3f\"))"
      ],
      "execution_count": null,
      "outputs": []
    },
    {
      "cell_type": "markdown",
      "metadata": {
        "id": "kDgLuqsiQiFR",
        "colab_type": "text"
      },
      "source": [
        "__Q5b.__ Restrict the sample to people between 30 and 40 years of age.  Then calculate the median household size for women and men within each level of educational attainment."
      ]
    },
    {
      "cell_type": "code",
      "metadata": {
        "id": "G9WyoECvRbna",
        "colab_type": "code",
        "colab": {
          "base_uri": "https://localhost:8080/",
          "height": 221
        },
        "outputId": "4d32eab6-c925-4f3b-f1dc-1d94f298443d"
      },
      "source": [
        "# DEMO CODE FOR Q5b\n",
        "\n",
        "# imports\n",
        "import pandas as pd\n",
        "\n",
        "# read the csv file\n",
        "da = pd.read_csv(\"nhanes_2015_2016.csv\")\n",
        "\n",
        "# restrict ages 30 to 40\n",
        "da[\"agegrp\"]=pd.cut(da.RIDAGEYR,[30,40])\n",
        "\n",
        "# recode gender variable\n",
        "da[\"RIAGENDRx\"] = da.RIAGENDR.replace({1: \"Male\", 2: \"Female\"})\n",
        "\n",
        "# recode educational variable\n",
        "da[\"DMDEDUC2x\"] = da.DMDEDUC2.replace({1: \"A:<9\", 2: \"B:9-11\", 3: \"C:HS/GED\", 4: \"D:Some college/AA\", 5: \"E:College\", \n",
        "                                       7: \"F:Refused\", 9: \"G:Don't know\"})\n",
        "\n",
        "# obtain descriptives for household size by grouping variables\n",
        "dx = da.groupby([\"agegrp\",\"DMDEDUC2x\",\"RIAGENDRx\"])[\"DMDHHSIZ\"].median().dropna()\n",
        "\n",
        "# find the column names so that we can print median only\n",
        "#print(dx.columns)\n",
        "\n",
        "#print the median only\n",
        "print(dx) \n"
      ],
      "execution_count": 173,
      "outputs": [
        {
          "output_type": "stream",
          "text": [
            "agegrp    DMDEDUC2x          RIAGENDRx\n",
            "(30, 40]  A:<9               Female       5.0\n",
            "                             Male         5.0\n",
            "          B:9-11             Female       5.0\n",
            "                             Male         5.0\n",
            "          C:HS/GED           Female       5.0\n",
            "                             Male         4.0\n",
            "          D:Some college/AA  Female       4.0\n",
            "                             Male         4.0\n",
            "          E:College          Female       4.0\n",
            "                             Male         3.0\n",
            "Name: DMDHHSIZ, dtype: float64\n"
          ],
          "name": "stdout"
        }
      ]
    },
    {
      "cell_type": "markdown",
      "metadata": {
        "id": "z8CgvzIRI8Oq",
        "colab_type": "text"
      },
      "source": [
        "## Question 6\n",
        "\n",
        "The participants can be clustered into \"maked variance units\" (MVU) based on every combination of the variables [SDMVSTRA](https://wwwn.cdc.gov/Nchs/Nhanes/2015-2016/DEMO_I.htm#SDMVSTRA) and [SDMVPSU](https://wwwn.cdc.gov/Nchs/Nhanes/2015-2016/DEMO_I.htm#SDMVPSU).  Calculate the mean age ([RIDAGEYR](https://wwwn.cdc.gov/Nchs/Nhanes/2015-2016/DEMO_I.htm#RIDAGEYR)), height ([BMXHT](https://wwwn.cdc.gov/Nchs/Nhanes/2015-2016/BMX_I.htm#BMXHT)), and BMI ([BMXBMI](https://wwwn.cdc.gov/Nchs/Nhanes/2015-2016/BMX_I.htm#BMXBMI)) for each gender ([RIAGENDR](https://wwwn.cdc.gov/Nchs/Nhanes/2015-2016/DEMO_I.htm#RIAGENDR)), within each MVU, and report the ratio between the largest and smallest mean (e.g. for height) across the MVUs."
      ]
    },
    {
      "cell_type": "code",
      "metadata": {
        "id": "J4RPMQ8DPV0C",
        "colab_type": "code",
        "colab": {}
      },
      "source": [
        "#code del profe\n",
        "# imports\n",
        "import pandas as pd\n",
        "\n",
        "# read csv dataset into dataframe\n",
        "da = pd.read_csv(\"nhanes_2015_2016.csv\")\n",
        "\n",
        "# create new dataframes for Males and Females\n",
        "dam = da.where(da.RIAGENDR == 1)\n",
        "daf = da.where(da.RIAGENDR == 2)\n",
        "\n",
        "# get max mean for age across every combo of SDMVPSU and SDMVSTRA\n",
        "agemax = dam.groupby(['SDMVPSU', 'SDMVSTRA'])[\"RIDAGEYR\"].mean().max() #The groupby \n",
        "#line is obtaining the means for RIDAGEYR for every combination of and SDMVPSU \n",
        "#and SDMVSTRA, and then finding the max or min of all of those individual groupby means.\n",
        "\n",
        "# get min mean for age across every combo of SDMVPSU and SDMVSTRA\n",
        "agemin = dam.groupby(['SDMVPSU', 'SDMVSTRA'])[\"RIDAGEYR\"].mean().min()\n",
        "\n",
        "# print max, min and ratio\n",
        "print(\"Male agemax:\", agemax)\n",
        "\n",
        "print(\"Male agemin:\", agemin)\n",
        "\n",
        "print(\"Male ageratio:\", agemax/agemin)"
      ],
      "execution_count": null,
      "outputs": []
    },
    {
      "cell_type": "markdown",
      "metadata": {
        "id": "jPEzxXh3JCkf",
        "colab_type": "text"
      },
      "source": [
        "__Q6a.__ Comment on the extent to which mean age, height, and BMI vary among the MVUs."
      ]
    },
    {
      "cell_type": "markdown",
      "metadata": {
        "id": "AZk4pqG7JD8o",
        "colab_type": "text"
      },
      "source": [
        "__Q6b.__ Calculate the inter-quartile range (IQR) for age, height, and BMI for each gender and each MVU.  Report the ratio between the largest and smalles IQR across the MVUs."
      ]
    },
    {
      "cell_type": "code",
      "metadata": {
        "id": "nLS21Ar1LlVr",
        "colab_type": "code",
        "colab": {
          "base_uri": "https://localhost:8080/",
          "height": 68
        },
        "outputId": "2e635764-ca8f-473d-d92d-f97251651954"
      },
      "source": [
        "\n",
        "\n",
        "DAm = da.where(da.RIAGENDR == 1)\n",
        "DAf = da.where(da.RIAGENDR == 2)\n",
        "\n",
        "# get max mean for age across every combo of SDMVPSU and SDMVSTRA\n",
        "p75max= DAf.groupby(['SDMVPSU', 'SDMVSTRA'])[\"RIDAGEYR\"].quantile(0.75).max()\n",
        "p75min= DAf.groupby(['SDMVPSU', 'SDMVSTRA'])[\"RIDAGEYR\"].quantile(0.75).min()\n",
        "\n",
        "\n",
        "# get min mean for age across every combo of SDMVPSU and SDMVSTRA\n",
        "p25max = DAf.groupby(['SDMVPSU', 'SDMVSTRA'])[\"RIDAGEYR\"].quantile(0.25).max()\n",
        "p25min= DAf.groupby(['SDMVPSU', 'SDMVSTRA'])[\"RIDAGEYR\"].quantile(0.25).min()\n",
        "\n",
        "IQRmax=p75max-p25min\n",
        "IQRmin=p75min-p25max\n",
        "\n",
        "# print max, min and ratio\n",
        "print(\"Female iqrmax:\", IQRmax)\n",
        "\n",
        "print(\"Female iqrmin:\", IQRmin)\n",
        "\n",
        "print(\"Female iqr ratio:\", IQRmax/IQRmin)"
      ],
      "execution_count": 170,
      "outputs": [
        {
          "output_type": "stream",
          "text": [
            "Female iqrmax: 50.0\n",
            "Female iqrmin: 10.5\n",
            "Female iqr ratio: 4.761904761904762\n"
          ],
          "name": "stdout"
        }
      ]
    },
    {
      "cell_type": "markdown",
      "metadata": {
        "id": "hgv6iME_JL2d",
        "colab_type": "text"
      },
      "source": [
        "__Q6c.__ Comment on the extent to which the IQR for age, height, and BMI vary among the MVUs."
      ]
    }
  ]
}