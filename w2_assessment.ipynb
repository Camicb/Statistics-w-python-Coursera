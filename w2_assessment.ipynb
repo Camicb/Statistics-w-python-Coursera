{
  "nbformat": 4,
  "nbformat_minor": 0,
  "metadata": {
    "colab": {
      "name": "w2_assessment.ipynb",
      "provenance": [],
      "private_outputs": true,
      "mount_file_id": "13suhTmOZ3tMO14jxvl1LhKbNQuQf7iRy",
      "authorship_tag": "ABX9TyMtNKO0SjUWSYIZEMKKsqHM",
      "include_colab_link": true
    },
    "kernelspec": {
      "name": "python3",
      "display_name": "Python 3"
    }
  },
  "cells": [
    {
      "cell_type": "markdown",
      "metadata": {
        "id": "view-in-github",
        "colab_type": "text"
      },
      "source": [
        "<a href=\"https://colab.research.google.com/github/Camicb/Statistics-w-python-Coursera/blob/master/w2_assessment.ipynb\" target=\"_parent\"><img src=\"https://colab.research.google.com/assets/colab-badge.svg\" alt=\"Open In Colab\"/></a>"
      ]
    },
    {
      "cell_type": "markdown",
      "metadata": {
        "id": "CAUqN5BSfVpH",
        "colab_type": "text"
      },
      "source": [
        "In this notebook, we'll ask you to find numerical summaries for a certain set of data. You will use the values of what you find in this assignment to answer questions in the quiz that follows (we've noted where specific values will be requested in the quiz, so that you can record them.)\n",
        "\n",
        "We'll also ask you to create some of the plots you have seen in previous lectures."
      ]
    },
    {
      "cell_type": "code",
      "metadata": {
        "id": "nvv1XMhKeLUO",
        "colab_type": "code",
        "colab": {}
      },
      "source": [
        "import numpy as np\n",
        "import pandas as pd\n",
        "import seaborn as sns\n",
        "import scipy.stats as stats\n",
        "%matplotlib inline\n",
        "import matplotlib.pyplot as plt\n",
        "pd.set_option('display.max_columns', 100)\n",
        "\n",
        "path = \"nhanes_2015_2016.csv\""
      ],
      "execution_count": null,
      "outputs": []
    },
    {
      "cell_type": "code",
      "metadata": {
        "id": "tYvUPf45fhLv",
        "colab_type": "code",
        "colab": {}
      },
      "source": [
        "# First, you must import the data from the path given above\n",
        "#df = # using pandas, read in the csv data found at the url defined by 'path'\n",
        "df=pd.read_csv(path)\n",
        "\n",
        "# Next, look at the 'head' of our DataFrame 'df'.    \n",
        "# If you can't remember a function, open a previous notebook or video as a reference \n",
        "# or use your favorite search engine to look for a solution\n",
        "df.head()  \n",
        "#df.head(20)\n",
        "#df.head('a')"
      ],
      "execution_count": null,
      "outputs": []
    },
    {
      "cell_type": "markdown",
      "metadata": {
        "id": "8h9tjjbojlGJ",
        "colab_type": "text"
      },
      "source": [
        "How many rows can you see when you don't put an argument into the previous method?  5\n",
        "\n",
        "How many rows can you see if you use an int as an argument?  the int\n",
        "\n",
        "Can you use a float as an argument? no"
      ]
    },
    {
      "cell_type": "code",
      "metadata": {
        "id": "wtfKGc5okLIS",
        "colab_type": "code",
        "colab": {}
      },
      "source": [
        "# Lets only consider the feature (or variable) 'BPXSY2'\n",
        "bp = df['BPXSY2']\n"
      ],
      "execution_count": null,
      "outputs": []
    },
    {
      "cell_type": "markdown",
      "metadata": {
        "id": "COVN-KWBkTiq",
        "colab_type": "text"
      },
      "source": [
        "## Numerical Summaries\n",
        "### Find the mean (note this for the quiz that follows)"
      ]
    },
    {
      "cell_type": "code",
      "metadata": {
        "id": "Hrq_C4t6kYcQ",
        "colab_type": "code",
        "colab": {}
      },
      "source": [
        "# What is the mean of 'BPXSY2'?\n",
        "bp_mean = bp.mean()\n",
        "print(bp_mean)"
      ],
      "execution_count": null,
      "outputs": []
    },
    {
      "cell_type": "markdown",
      "metadata": {
        "id": "WxaZkEUlly_J",
        "colab_type": "text"
      },
      "source": [
        "#### .dropna()\n",
        "To make sure we know that we aren't treating missing data in ways we don't want, lets go ahead and drop all the nans from our Series 'bp'"
      ]
    },
    {
      "cell_type": "code",
      "metadata": {
        "id": "dEs6xDxxl0Wd",
        "colab_type": "code",
        "colab": {}
      },
      "source": [
        "bp = bp.dropna()\n",
        "print(bp.mean())"
      ],
      "execution_count": null,
      "outputs": []
    },
    {
      "cell_type": "markdown",
      "metadata": {
        "id": "AUDXvsjRmWsS",
        "colab_type": "text"
      },
      "source": [
        "### Find the:\n",
        "* Median\n",
        "* Max\n",
        "* Min\n",
        "* Standard deviation\n",
        "* Variance\n",
        "\n",
        "\n",
        "You can implement any of these from base python (that is, without any of the imported packages), but there are simple and intuitively named functions in the numpy library for all of these. You could also use the fact that 'bp' is not just a list, but is a pandas.Series. You can find pandas.Series attributes and methods [here](https://pandas.pydata.org/pandas-docs/version/0.23.4/generated/pandas.Series.html)\n",
        "\n",
        "A large part of programming is being able to find the functions you need and to understand the documentation formatting so that you can implement the code yourself, so we highly encourage you to search the internet whenever you are unsure! "
      ]
    },
    {
      "cell_type": "markdown",
      "metadata": {
        "id": "Bdvld9mjmvL5",
        "colab_type": "text"
      },
      "source": [
        "### Example: \n",
        "Find the difference of an element in 'bp' compared with the previous element in 'bp'."
      ]
    },
    {
      "cell_type": "code",
      "metadata": {
        "id": "u1RANYMzmaTn",
        "colab_type": "code",
        "colab": {}
      },
      "source": [
        "# Using the fact that 'bp' is a pd.Series object, can use the pd.Series method diff()\n",
        "# call this method by: pd.Series.diff()\n",
        "diff_by_series_method = bp.diff() \n",
        "# note that this returns a pd.Series object, that is, it had an index associated with it\n",
        "diff_by_series_method.values # only want to see the values, not the index and values"
      ],
      "execution_count": null,
      "outputs": []
    },
    {
      "cell_type": "code",
      "metadata": {
        "id": "GXNNythKnEHR",
        "colab_type": "code",
        "colab": {}
      },
      "source": [
        "# Now use the numpy library instead to find the same values\n",
        "# np.diff(array)\n",
        "diff_by_np_method = np.diff(bp)\n",
        "diff_by_np_method\n",
        "# note that this returns an 'numpy.ndarray', which has no index associated with it, and therefore ignores\n",
        "# the nan we get by the Series method"
      ],
      "execution_count": null,
      "outputs": []
    },
    {
      "cell_type": "code",
      "metadata": {
        "id": "vsSDClnsnLzi",
        "colab_type": "code",
        "colab": {}
      },
      "source": [
        "# We could also implement this ourselves with some looping\n",
        "diff_by_me = [] # create an empty list\n",
        "for i in range(len(bp.values)-1): # iterate through the index values of bp\n",
        "    diff = bp.values[i+1] - bp.values[i] # find the difference between an element and the previous element\n",
        "    diff_by_me.append(diff) # append to out list\n",
        "np.array(diff_by_me) # format as an np.array"
      ],
      "execution_count": null,
      "outputs": []
    },
    {
      "cell_type": "markdown",
      "metadata": {
        "id": "-s3djD1GnXhw",
        "colab_type": "text"
      },
      "source": [
        "### Your turn (note these values for the quiz that follows)"
      ]
    },
    {
      "cell_type": "code",
      "metadata": {
        "id": "qGB_pt5Unh8l",
        "colab_type": "code",
        "colab": {}
      },
      "source": [
        "print(bp.describe())"
      ],
      "execution_count": null,
      "outputs": []
    },
    {
      "cell_type": "code",
      "metadata": {
        "id": "aAgTeo86nabB",
        "colab_type": "code",
        "colab": {}
      },
      "source": [
        "print('bp_median:', bp.median())\n",
        "print('bp_max:', bp.max())\n",
        "print('bp_min:', bp.min())\n",
        "print('bp_std:', bp.std())\n",
        "print('bp_var:', bp.var())\n"
      ],
      "execution_count": null,
      "outputs": []
    },
    {
      "cell_type": "markdown",
      "metadata": {
        "id": "6iJmmaSMo8kb",
        "colab_type": "text"
      },
      "source": [
        "### How to find the interquartile range (note this value for the quiz that follows)\n",
        "This time we need to use the scipy.stats library that we imported above under the name 'stats'"
      ]
    },
    {
      "cell_type": "code",
      "metadata": {
        "id": "XEOgw6Lyo8MI",
        "colab_type": "code",
        "colab": {}
      },
      "source": [
        "bp_iqr = stats.iqr(bp) \n",
        "bp_iqr"
      ],
      "execution_count": null,
      "outputs": []
    },
    {
      "cell_type": "markdown",
      "metadata": {
        "id": "Z5WS_w82pKS5",
        "colab_type": "text"
      },
      "source": [
        "## Visualizing the data\n",
        "Next we'll use what you have learned from the *Tables, Histograms, Boxplots in Python* video"
      ]
    },
    {
      "cell_type": "code",
      "metadata": {
        "id": "8Vo00wQ7pMZe",
        "colab_type": "code",
        "colab": {}
      },
      "source": [
        "# use the Series.describe() method to see some descriptive statistics of our Series 'bp'\n",
        "bp_descriptive_stats = bp.describe()\n",
        "bp_descriptive_stats"
      ],
      "execution_count": null,
      "outputs": []
    },
    {
      "cell_type": "code",
      "metadata": {
        "id": "bIJaB9qgpTpy",
        "colab_type": "code",
        "colab": {}
      },
      "source": [
        "# Make a histogram of our 'bp' data using the seaborn library we imported as 'sns'\n",
        "sns.distplot(bp)"
      ],
      "execution_count": null,
      "outputs": []
    },
    {
      "cell_type": "code",
      "metadata": {
        "id": "xtTgE6bqq3p-",
        "colab_type": "code",
        "colab": {}
      },
      "source": [
        "# Make a boxplot of our 'bp' data using the seaborn library. Make sure it has a title and labels!\n",
        "sns.boxplot(bp).set_title('Boxplot of BPXSY2')"
      ],
      "execution_count": null,
      "outputs": []
    }
  ]
}