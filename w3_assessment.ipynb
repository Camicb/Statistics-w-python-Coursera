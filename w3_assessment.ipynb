{
  "nbformat": 4,
  "nbformat_minor": 0,
  "metadata": {
    "colab": {
      "name": "w3_assessment.ipynb",
      "provenance": [],
      "private_outputs": true,
      "authorship_tag": "ABX9TyPLP2ajv4iA3HzvapjEVyr5",
      "include_colab_link": true
    },
    "kernelspec": {
      "name": "python3",
      "display_name": "Python 3"
    }
  },
  "cells": [
    {
      "cell_type": "markdown",
      "metadata": {
        "id": "view-in-github",
        "colab_type": "text"
      },
      "source": [
        "<a href=\"https://colab.research.google.com/github/Camicb/Statistics-w-python-Coursera/blob/master/w3_assessment.ipynb\" target=\"_parent\"><img src=\"https://colab.research.google.com/assets/colab-badge.svg\" alt=\"Open In Colab\"/></a>"
      ]
    },
    {
      "cell_type": "markdown",
      "metadata": {
        "id": "sAphOwxwBg2X",
        "colab_type": "text"
      },
      "source": [
        "In this assignment we'll ask you to plot multiple variables.   \n",
        "\n",
        "You will use what you find in this assignment to answer the questions in the quiz that follows. It may be useful to keep this notebook side-by-side with this week's quiz on your screen."
      ]
    },
    {
      "cell_type": "code",
      "metadata": {
        "id": "snwbyJRSAjzL",
        "colab_type": "code",
        "colab": {}
      },
      "source": [
        "import numpy as np\n",
        "import pandas as pd\n",
        "import seaborn as sns\n",
        "import scipy.stats as stats\n",
        "%matplotlib inline\n",
        "import matplotlib.pyplot as plt\n",
        "pd.set_option('display.max_columns', 100)\n",
        "\n",
        "#path = \"Cartwheeldata.csv\""
      ],
      "execution_count": null,
      "outputs": []
    },
    {
      "cell_type": "code",
      "metadata": {
        "id": "CQs5dq6nCI5T",
        "colab_type": "code",
        "colab": {}
      },
      "source": [
        "# First, you must import the cartwheel data from the path given above\n",
        "db=pd.read_csv(\"Cartwheeldata.csv\")\n",
        "# Next, look at the 'head' of our DataFrame 'df'.\n",
        "db.head()"
      ],
      "execution_count": null,
      "outputs": []
    },
    {
      "cell_type": "markdown",
      "metadata": {
        "id": "4AttnIc4DRgD",
        "colab_type": "text"
      },
      "source": [
        "## Scatter plots\n",
        "First, let's looks at two variables that we expect to have a strong relationship, 'Height' and 'Wingspan'."
      ]
    },
    {
      "cell_type": "code",
      "metadata": {
        "id": "78nqj1wKDRIN",
        "colab_type": "code",
        "colab": {}
      },
      "source": [
        "# Make a Seaborn scatter plot with x = height and y = wingspan using sns.scatterplot(x, y)\n",
        "x=db[\"Height\"]\n",
        "y=db[\"Wingspan\"]\n",
        "sns.scatterplot(x, y)"
      ],
      "execution_count": null,
      "outputs": []
    },
    {
      "cell_type": "code",
      "metadata": {
        "id": "3vI6I0K1MT8P",
        "colab_type": "code",
        "colab": {}
      },
      "source": [
        "X=db[\"Height\"]\n",
        "Y=db[\"Wingspan\"]\n",
        "sns.scatterplot(X, Y, hue=db['Gender'])"
      ],
      "execution_count": null,
      "outputs": []
    },
    {
      "cell_type": "markdown",
      "metadata": {
        "id": "Qd1DaIBcE29P",
        "colab_type": "text"
      },
      "source": [
        "Now let's look at two variables that we don't yet assume have a strong relationship, 'Wingspan' and 'CWDistance'"
      ]
    },
    {
      "cell_type": "code",
      "metadata": {
        "id": "xrMwgYh3E7F6",
        "colab_type": "code",
        "colab": {}
      },
      "source": [
        "# Make a Seaborn scatter plot with x = wingspan and y = cartwheel distance\n",
        "x1=db[\"Wingspan\"]\n",
        "y1=db[\"CWDistance\"]\n",
        "sns.scatterplot(x1, y1)"
      ],
      "execution_count": null,
      "outputs": []
    },
    {
      "cell_type": "markdown",
      "metadata": {
        "id": "BFziVRpnF5Yh",
        "colab_type": "text"
      },
      "source": [
        "Let makes the same plot as above, but now include 'Gender' as the color scheme by including the argument\n",
        "```\n",
        "hue=df['Gender']\n",
        "```\n",
        "in the Seaborn function"
      ]
    },
    {
      "cell_type": "code",
      "metadata": {
        "id": "gG6A9_HeF4_I",
        "colab_type": "code",
        "colab": {}
      },
      "source": [
        "x2=db[\"Wingspan\"]\n",
        "y2=db[\"CWDistance\"]\n",
        "sns.scatterplot(x2, y2, hue=db['Gender'])"
      ],
      "execution_count": null,
      "outputs": []
    },
    {
      "cell_type": "markdown",
      "metadata": {
        "id": "aJQTwF54GRkn",
        "colab_type": "text"
      },
      "source": [
        "## Barcharts\n",
        "Now lets plot barplots of 'Glasses'"
      ]
    },
    {
      "cell_type": "code",
      "metadata": {
        "id": "W3lusv9uIxLv",
        "colab_type": "code",
        "colab": {}
      },
      "source": [
        "# Make a Seaborn barplot with x = glasses and y = cartwheel distance\n",
        "g = sns.FacetGrid(db)\n",
        "\n",
        "g.map(sns.barplot, \"CWDistance\",\"Glasses\", order=[\"Y\", \"N\"]);"
      ],
      "execution_count": null,
      "outputs": []
    },
    {
      "cell_type": "code",
      "metadata": {
        "id": "k-BLfdIaJpVb",
        "colab_type": "code",
        "colab": {}
      },
      "source": [
        "# Make the same Seaborn boxplot as above, but include gender for the hue argument\n",
        "g1 = sns.FacetGrid(db, col=\"Gender\")\n",
        "\n",
        "g1.map(sns.barplot, \"CWDistance\",\"Glasses\", order=[\"Y\", \"N\"]);"
      ],
      "execution_count": null,
      "outputs": []
    }
  ]
}