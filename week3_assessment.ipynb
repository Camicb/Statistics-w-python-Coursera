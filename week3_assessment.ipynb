{
  "nbformat": 4,
  "nbformat_minor": 0,
  "metadata": {
    "colab": {
      "name": "week3_assessment.ipynb",
      "provenance": [],
      "private_outputs": true,
      "authorship_tag": "ABX9TyORURQrkbZTVXljvIwguLlx",
      "include_colab_link": true
    },
    "kernelspec": {
      "name": "python3",
      "display_name": "Python 3"
    }
  },
  "cells": [
    {
      "cell_type": "markdown",
      "metadata": {
        "id": "view-in-github",
        "colab_type": "text"
      },
      "source": [
        "<a href=\"https://colab.research.google.com/github/Camicb/Statistics-w-python-Coursera/blob/master/week3_assessment.ipynb\" target=\"_parent\"><img src=\"https://colab.research.google.com/assets/colab-badge.svg\" alt=\"Open In Colab\"/></a>"
      ]
    },
    {
      "cell_type": "markdown",
      "metadata": {
        "id": "2_IFAVBgmnWR"
      },
      "source": [
        "## Creating confidence intervals in python\n",
        "In this assessment, you will look at data from a study on toddler sleep habits. \n",
        "\n",
        "The confidence intervals you create and the questions you answer in this Jupyter notebook will be used to answer questions in the following graded assignment."
      ]
    },
    {
      "cell_type": "code",
      "metadata": {
        "id": "f1Q8EPCwmsa0"
      },
      "source": [
        "import numpy as np\n",
        "import pandas as pd\n",
        "import scipy\n",
        "from scipy.stats import t\n",
        "pd.set_option('display.max_columns', 30) # set so can see all columns of the DataFrame"
      ],
      "execution_count": null,
      "outputs": []
    },
    {
      "cell_type": "markdown",
      "metadata": {
        "id": "q3mMIUfem0_i"
      },
      "source": [
        "Your goal is to analyse data which is the result of a study that examined\n",
        "differences in a number of sleep variables between napping and non-napping toddlers. Some of these\n",
        "sleep variables included: Bedtime (lights-off time in decimalized time), Night Sleep Onset Time (in\n",
        "decimalized time), Wake Time (sleep end time in decimalized time), Night Sleep Duration (interval\n",
        "between sleep onset and sleep end in minutes), and Total 24-Hour Sleep Duration (in minutes). Note:\n",
        "[Decimalized time](https://en.wikipedia.org/wiki/Decimal_time) is the representation of the time of day using units which are decimally related.   \n",
        "\n",
        "\n",
        "The 20 study participants were healthy, normally developing toddlers with no sleep or behavioral\n",
        "problems. These children were categorized as napping or non-napping based upon parental report of\n",
        "children’s habitual sleep patterns. Researchers then verified napping status with data from actigraphy (a\n",
        "non-invasive method of monitoring human rest/activity cycles by wearing of a sensor on the wrist) and\n",
        "sleep diaries during the 5 days before the study assessments were made.\n",
        "\n",
        "\n",
        "You are specifically interested in the results for the Bedtime, Night Sleep Duration, and Total 24-\n",
        "Hour Sleep Duration. \n",
        "\n"
      ]
    },
    {
      "cell_type": "markdown",
      "metadata": {
        "id": "-5Y09oEhnCON"
      },
      "source": [
        "Reference: Akacem LD, Simpkin CT, Carskadon MA, Wright KP Jr, Jenni OG, Achermann P, et al. (2015) The Timing of the Circadian Clock and Sleep Differ between Napping and Non-Napping Toddlers. PLoS ONE 10(4): e0125181. https://doi.org/10.1371/journal.pone.0125181\n",
        "\n"
      ]
    },
    {
      "cell_type": "code",
      "metadata": {
        "id": "OxBZmR6sm-Cq"
      },
      "source": [
        "# Import the data\n",
        "df = pd.read_csv(\"https://raw.githubusercontent.com/UMstatspy/UMStatsPy/master/Course_2/nap_no_nap.csv\")\n",
        "df.head()"
      ],
      "execution_count": null,
      "outputs": []
    },
    {
      "cell_type": "markdown",
      "metadata": {
        "id": "N4dfI5nqnYVh"
      },
      "source": [
        "**Question 1**: What variable is used in the column 'napping' to indicate a toddler takes a nap?\n",
        "\n",
        "\n",
        "**Question 2**: What is the sample size $n$?"
      ]
    },
    {
      "cell_type": "code",
      "metadata": {
        "id": "VWZOb5Gpn3Ka"
      },
      "source": [
        "#Q1: 1=nap, 0=no nap\n",
        "n=df['napping'].count()\n",
        "print('Sample size:',n) #Q2"
      ],
      "execution_count": null,
      "outputs": []
    },
    {
      "cell_type": "markdown",
      "metadata": {
        "id": "r0Ihtumtohwn"
      },
      "source": [
        "## Hypothesis testing\n",
        "We will look at two hypothesis test, each with $\\alpha = .025$:  \n",
        "\n",
        "\n",
        "1. Is the average bedtime for toddlers who nap later than the average bedtime for toddlers who don't nap?\n",
        "\n",
        "\n",
        "$$H_0: \\mu_{nap}=\\mu_{no\\ nap}, \\ H_a:\\mu_{nap}>\\mu_{no\\ nap}$$\n",
        "Or equivalently:\n",
        "$$H_0: \\mu_{nap}-\\mu_{no\\ nap}=0, \\ H_a:\\mu_{nap}-\\mu_{no\\ nap}>0$$\n",
        "\n",
        "\n",
        "2. The average 24 h sleep duration (in minutes) for napping toddlers is different from toddlers who don't nap.\n",
        "\n",
        "\n",
        "$$H_0: \\mu_{nap}=\\mu_{no\\ nap}, \\ H_a:\\mu_{nap}\\neq\\mu_{no\\ nap}$$\n",
        "Or equivalenty:\n",
        "$$H_0: \\mu_{nap}-\\mu_{no\\ nap}=0, \\ H_a:\\mu_{nap}-\\mu_{no\\ nap} \\neq 0$$\n",
        "\n",
        "Aside: This $\\alpha$ level is equivalent to $\\alpha = .05$ and then applying the [Bonferonni correction](https://en.wikipedia.org/wiki/Bonferroni_correction).\n",
        "\n",
        "Before any analysis, we will convert 'night bedtime' into decimalized time:"
      ]
    },
    {
      "cell_type": "code",
      "metadata": {
        "id": "Z59_W3iMz2Wi"
      },
      "source": [
        "alpha=.05/2\n",
        "print(alpha)"
      ],
      "execution_count": null,
      "outputs": []
    },
    {
      "cell_type": "code",
      "metadata": {
        "id": "_SRqspMgojwF"
      },
      "source": [
        "# Convert 'night bedtime' into decimalized time\n",
        "df.loc[:,'night bedtime'] = np.floor(df['night bedtime'])*60 + np.round(df['night bedtime']%1,2 )*100"
      ],
      "execution_count": null,
      "outputs": []
    },
    {
      "cell_type": "markdown",
      "metadata": {
        "id": "JjthtBXioy8d"
      },
      "source": [
        "Now, isolate the column 'night bedtime' for those who nap into a new variable, and those who didn't nap into another new variable. "
      ]
    },
    {
      "cell_type": "code",
      "metadata": {
        "id": "NJnfpxV2o0KX"
      },
      "source": [
        "bedtime_nap =df.loc[(df['napping']==1),'night bedtime']\n",
        "print('bedtime_nap')\n",
        "print(bedtime_nap)\n",
        "#print(len(bedtime_nap))\n",
        "\n",
        "bedtime_no_nap = df.loc[(df['napping']==0),'night bedtime']\n",
        "print('bedtime_no_nap')\n",
        "print(bedtime_no_nap)\n",
        "#print(bedtime_no_nap.count())"
      ],
      "execution_count": null,
      "outputs": []
    },
    {
      "cell_type": "markdown",
      "metadata": {
        "id": "qFBYuIt4pTC4"
      },
      "source": [
        "Now find the sample mean bedtime for nap and no_nap.\n"
      ]
    },
    {
      "cell_type": "code",
      "metadata": {
        "id": "4Fg55dwPpUaQ"
      },
      "source": [
        "nap_mean_bedtime = bedtime_nap.mean()\n",
        "print('Sample mean bedtime for nap:',nap_mean_bedtime)\n",
        "\n",
        "no_nap_mean_bedtime =  bedtime_no_nap.mean()\n",
        "print('Sample mean bedtime for no_nap:',no_nap_mean_bedtime)"
      ],
      "execution_count": null,
      "outputs": []
    },
    {
      "cell_type": "markdown",
      "metadata": {
        "id": "U9PNpNURplTL"
      },
      "source": [
        "**Question**: What is the sample difference of mean bedtime for nappers minus no nappers?"
      ]
    },
    {
      "cell_type": "code",
      "metadata": {
        "id": "msz6ZmdXp_hS"
      },
      "source": [
        "mean_diff = nap_mean_bedtime - no_nap_mean_bedtime\n",
        "print(mean_diff)"
      ],
      "execution_count": null,
      "outputs": []
    },
    {
      "cell_type": "markdown",
      "metadata": {
        "id": "HqnWpZrQqKri"
      },
      "source": [
        "Now find the sample standard deviation for $X_{nap}$ and $X_{no\\ nap}$."
      ]
    },
    {
      "cell_type": "code",
      "metadata": {
        "id": "CBuJbc9IqMsa"
      },
      "source": [
        "nap_s_bedtime = bedtime_nap.std()\n",
        "print('Standard deviation for nap:', nap_s_bedtime)\n",
        "\n",
        "no_nap_s_bedtime = bedtime_no_nap.std()\n",
        "print('Standard deviation for no nap:', no_nap_s_bedtime)\n",
        "#Important:\n",
        "#Population standard deviation: (DDOF = 0)\n",
        "#Sample standard deviation: (DDOF = 1)\n",
        "#Standard error (of the mean): (DDOF=0)\n",
        "#So if we leave DDOF set to the defaults...\n",
        "#np.std() is appropriate for a population standard deviation or a standard error, but not a sample standard deviation.\n",
        "#pandas.dataframe.std() is appropriate for a sample standard deviation but not a population standard deviation or a standard error. The default DDOF=1 subtracts one from that expression in the denominator, which gives us the sample size minus one (n-1) that we want for a sample standard deviation.\n",
        "#But ultimately, because we can set the DDOF argument to whatever we need it to be, either function can be made to work for any of the above situations."
      ],
      "execution_count": null,
      "outputs": []
    },
    {
      "cell_type": "markdown",
      "metadata": {
        "id": "LD7uGYLFso-v"
      },
      "source": [
        "**Question**: What is the s.e.$(\\bar{X}_{nap} - \\bar{X}_{no\\ nap})$?\n",
        "\n",
        "We expect the variance in sleep time for toddlers who nap and toddlers who don't nap to be the same. So we use a pooled standard error.\n",
        "\n",
        "Calculate the pooled standard error of $\\bar{X}_{nap} - \\bar{X}_{no\\ nap}$ using the formula below.\n",
        "\n",
        "$s.e.(\\bar{X}_{nap} - \\bar{X}_{no\\ nap}) = \\sqrt{\\frac{(n_1-1)s_1^2 + (n_2-1)s_2^2}{n_1+n_2-2}(\\frac{1}{n_1}+\\frac{1}{n_2})}$"
      ]
    },
    {
      "cell_type": "code",
      "metadata": {
        "id": "59xp8NeAsqtd"
      },
      "source": [
        "n1=df.loc[(df['napping']==1),'id'].count()# sample size for toddlers who nap\n",
        "n2=df.loc[(df['napping']==0), 'id'].count()#sample size for toddlers who don't nap\n",
        "s1=nap_s_bedtime\n",
        "s2=no_nap_s_bedtime\n",
        "term=(((n1-1)*s1**2)+((n2-1)*s2**2))*((1/n1)+(1/n2))/(n1+n2-2)\n",
        "pooled_se = np.sqrt(term)\n",
        "print(pooled_se)"
      ],
      "execution_count": null,
      "outputs": []
    },
    {
      "cell_type": "markdown",
      "metadata": {
        "id": "u3Wpze8nu21U"
      },
      "source": [
        "**Question**: Given our sample size of $n$, how many degrees of freedom ($df$) are there for the associated $t$ distribution?"
      ]
    },
    {
      "cell_type": "code",
      "metadata": {
        "id": "31g9J5NBu4fK"
      },
      "source": [
        "df_n1=n1-1\n",
        "df_n2=n2-1\n",
        "print(df_n1, ',', df_n2)"
      ],
      "execution_count": null,
      "outputs": []
    },
    {
      "cell_type": "markdown",
      "metadata": {
        "id": "4F6NiZ1LvCZT"
      },
      "source": [
        "Now calculate the $t$-test statistic for our first hypothesis test using  \n",
        "* pooled s.e.($\\bar{X}_{nap} - \\bar{X}_{no\\ nap}$)  \n",
        "* $\\bar{X}_{nap} - \\bar{X}_{no\\ nap}$  \n",
        "* $\\mu_{0,\\ nap} - \\mu_{0,\\ no\\ nap}=0$, the population difference in means under the null hypothesis"
      ]
    },
    {
      "cell_type": "code",
      "metadata": {
        "id": "CCnT3CFtvB1j"
      },
      "source": [
        "tstar=mean_diff/pooled_se\n",
        "print(tstar)"
      ],
      "execution_count": null,
      "outputs": []
    },
    {
      "cell_type": "markdown",
      "metadata": {
        "id": "2XbUCytq4lxA"
      },
      "source": [
        "**Question**: What is the p-value for the first hypothesis test?\n",
        "To find the p-value, we can use the function:\n",
        "```\n",
        "t.cdf(y, df)\n",
        "```\n",
        "Which for $X \\sim t(df)$ returns $P(X \\leq y)$.\n",
        "\n",
        "Because of the symmetry of the $t$ distrubution, we have that \n",
        "```\n",
        "1-t.cdf(y, df)\n",
        "```\n",
        "returns $P(X > y)$\n",
        "\n",
        "The function t.cdf(y, df) will give you the same value as finding the one-tailed probability of y on a t-table with the specified degrees of freedom.\n",
        "\n",
        "Use the function t.cdf(y, df) to find the p-value for the first hypothesis test."
      ]
    },
    {
      "cell_type": "code",
      "metadata": {
        "id": "euTP2Z5t4qfF"
      },
      "source": [
        "# this is a two sided test so the first argument is the absolute value for tstar and we compare the p-value to 1/2 the alpha\n",
        "pval = 1 - t.cdf(np.abs(tstar), df_n1+df_n2)\n",
        "print(pval)\n",
        "print(\"1/2 Alpha:\", alpha / 2)"
      ],
      "execution_count": null,
      "outputs": []
    },
    {
      "cell_type": "markdown",
      "metadata": {
        "id": "uGNs61mV7LWI"
      },
      "source": [
        "**Question**: What are the t-statistic and p-value for the second hypothesis test?\n",
        "\n",
        "Calculate the $t$ test statistics and corresponding p-value using the scipy function scipy.stats.ttest_ind(a, b, equal_var=True) and check with your answer. \n",
        "\n",
        "**Question**: Does scipy.stats.ttest_ind return values for a one-sided or two-sided test?\n",
        "\n",
        "**Question**: Can you think of a way to recover the results you got using 1-t.cdf from the p-value given by scipy.stats.ttest_ind?\n",
        "\n",
        "Use the scipy function scipy.stats.ttest_ind(a, b, equal_var=True) to find the $t$ test statistic and corresponding p-value for the second hypothesis test."
      ]
    },
    {
      "cell_type": "code",
      "metadata": {
        "id": "jF16n0Xi_hje"
      },
      "source": [
        "from scipy import stats"
      ],
      "execution_count": null,
      "outputs": []
    },
    {
      "cell_type": "code",
      "metadata": {
        "id": "0XPTofzs7OaB"
      },
      "source": [
        "#first hypo test\n",
        "x=scipy.stats.ttest_ind(bedtime_nap, bedtime_no_nap, equal_var=True) \n",
        "#This is a two-sided test for the null hypothesis that 2 independent samples have identical average (expected) values.\n",
        "print(x)\n",
        "print(pval*2)"
      ],
      "execution_count": null,
      "outputs": []
    },
    {
      "cell_type": "code",
      "metadata": {
        "id": "gztGErzNCoLc"
      },
      "source": [
        "#second hypo test\n",
        "\n",
        "#Convert 'night bedtime' into decimalized time\n",
        "df.loc[:,'24 h sleep duration'] = np.floor(df['24 h sleep duration'])*60 + np.round(df['24 h sleep duration']%1,2 )*100\n",
        "\n",
        "#isolate the column 'night bedtime' for those who nap into a new variable, and those who didn't nap into another new variable.\n",
        "sldur_nap =df.loc[(df['napping']==1),'24 h sleep duration']\n",
        "#print('24 h sleep duration_nap')\n",
        "#print(sldur_nap)\n",
        "\n",
        "sldur_nonap = df.loc[(df['napping']==0),'24 h sleep duration']\n",
        "#print('24 h sleep duration_nonap')\n",
        "#print(sldur_nonap)\n",
        "\n",
        "y=scipy.stats.ttest_ind(sldur_nap, sldur_nonap, equal_var=True) \n",
        "print(y)\n"
      ],
      "execution_count": null,
      "outputs": []
    },
    {
      "cell_type": "markdown",
      "metadata": {
        "id": "w9rD9GzZ7YHl"
      },
      "source": [
        "**Question**: For the $\\alpha=.025$, do you reject or fail to reject the first hypothesis?\n",
        "\n",
        "**Question**: For the $\\alpha=.025$, do you reject or fail to reject the second hypothesis?\n",
        "\n"
      ]
    },
    {
      "cell_type": "code",
      "metadata": {
        "id": "utrm5KUP8d9i"
      },
      "source": [
        "# if the p-value is less tha alpha, then we reject the null hypothesis\n",
        "# if the p-value is not less than alpha, then we do not reject the null hypothesis\n",
        "\n",
        "#For first hypo : fail to reject the null hypo\n",
        "print(pval) #0.014667\n",
        "print(alpha/2) #0.0125\n",
        "print(x) #pvalue=0.02933\n",
        "#for second hypo : fail to reject null hypo???\n",
        "print(y) #pvalue= 0.0156"
      ],
      "execution_count": null,
      "outputs": []
    }
  ]
}